{
 "cells": [
  {
   "cell_type": "markdown",
   "id": "retired-upper",
   "metadata": {},
   "source": [
    "### 데이터 불러오기"
   ]
  },
  {
   "cell_type": "code",
   "execution_count": 1,
   "id": "searching-clause",
   "metadata": {},
   "outputs": [],
   "source": [
    "import os, re\n",
    "import numpy as np\n",
    "import tensorflow as tf\n",
    "import glob\n",
    "from sklearn.model_selection import train_test_split"
   ]
  },
  {
   "cell_type": "code",
   "execution_count": 2,
   "id": "compatible-butterfly",
   "metadata": {},
   "outputs": [
    {
     "name": "stdout",
     "output_type": "stream",
     "text": [
      "데이터 크기: 187088\n",
      "Examples:/n ['At first I was afraid', 'I was petrified', 'I kept thinking I could never live without you', 'By my side But then I spent so many nights', \"Just thinking how you've done me wrong\", 'I grew strong', \"I learned how to get along And so you're back\", 'From outer space', 'I just walked in to find you', 'Here without that look upon your face I should have changed that fucking lock']\n"
     ]
    }
   ],
   "source": [
    "txt_file_path = os.getenv('HOME')+'/aiffel/lyricist/data/lyrics/*'\n",
    "\n",
    "txt_list = glob.glob(txt_file_path)\n",
    "\n",
    "raw_corpus = []\n",
    "\n",
    "for txt_file in txt_list:\n",
    "    with open(txt_file, \"r\") as f:\n",
    "        raw = f.read().splitlines()\n",
    "        raw_corpus.extend(raw)\n",
    "\n",
    "print(\"데이터 크기:\", len(raw_corpus))\n",
    "print(\"Examples:/n\", raw_corpus[:10])"
   ]
  },
  {
   "cell_type": "markdown",
   "id": "humanitarian-compact",
   "metadata": {},
   "source": [
    "### 데이터 정제"
   ]
  },
  {
   "cell_type": "code",
   "execution_count": 3,
   "id": "artistic-essay",
   "metadata": {},
   "outputs": [
    {
     "name": "stdout",
     "output_type": "stream",
     "text": [
      "<start> this is sample sentence <end>\n"
     ]
    }
   ],
   "source": [
    "def preprocess_sentence(sentence):\n",
    "    sentence = sentence.lower().strip()\n",
    "    sentence = re.sub(r\"([?.!,¿])\", r\" /1 \", sentence)\n",
    "    sentence = re.sub(r'[\" \"]+', \" \", sentence)\n",
    "    sentence = re.sub(r\"[^a-zA-Z?.!,¿,']+\", \" \", sentence)\n",
    "    sentence = sentence.strip()\n",
    "    sentence = '<start> ' + sentence + ' <end>'\n",
    "    return sentence\n",
    "\n",
    "print(preprocess_sentence(\"This @_is ;;;sample        sentence.\"))"
   ]
  },
  {
   "cell_type": "code",
   "execution_count": 4,
   "id": "affecting-stocks",
   "metadata": {},
   "outputs": [
    {
     "data": {
      "text/plain": [
       "['<start> at first i was afraid <end>',\n",
       " '<start> i was petrified <end>',\n",
       " '<start> i kept thinking i could never live without you <end>',\n",
       " '<start> by my side but then i spent so many nights <end>',\n",
       " \"<start> just thinking how you've done me wrong <end>\",\n",
       " '<start> i grew strong <end>',\n",
       " \"<start> i learned how to get along and so you're back <end>\",\n",
       " '<start> from outer space <end>',\n",
       " '<start> i just walked in to find you <end>',\n",
       " '<start> i would have made you leave your key <end>']"
      ]
     },
     "execution_count": 4,
     "metadata": {},
     "output_type": "execute_result"
    }
   ],
   "source": [
    "corpus =[]\n",
    "\n",
    "for sentence in raw_corpus:\n",
    "    if len(sentence.split(' ')) > 13: continue\n",
    "    if len(sentence) == 0: continue\n",
    "    #if sentence[-1] == \":\": continue\n",
    "        \n",
    "    preprocessed_sentence = preprocess_sentence(sentence)\n",
    "    corpus.append(preprocessed_sentence)\n",
    "    \n",
    "corpus[:10]"
   ]
  },
  {
   "cell_type": "markdown",
   "id": "short-cemetery",
   "metadata": {},
   "source": [
    "### 텐서화"
   ]
  },
  {
   "cell_type": "code",
   "execution_count": 5,
   "id": "broken-supervision",
   "metadata": {},
   "outputs": [
    {
     "name": "stdout",
     "output_type": "stream",
     "text": [
      "[[   2   61  257 ...    0    0    0]\n",
      " [   2    5   50 ...    0    0    0]\n",
      " [   2    5 1154 ...    0    0    0]\n",
      " ...\n",
      " [   2    7    5 ...    0    0    0]\n",
      " [   2  209   91 ...    0    0    0]\n",
      " [   2    4  172 ...    0    0    0]] <keras_preprocessing.text.Tokenizer object at 0x7fd658f7cf50>\n"
     ]
    },
    {
     "data": {
      "text/plain": [
       "(163042, 15)"
      ]
     },
     "execution_count": 5,
     "metadata": {},
     "output_type": "execute_result"
    }
   ],
   "source": [
    "def tokenize(corpus):\n",
    "    tokenizer = tf.keras.preprocessing.text.Tokenizer(\n",
    "        num_words=12000,\n",
    "        filters=' ',\n",
    "        oov_token=\"<unk>\"\n",
    "    )\n",
    "    tokenizer.fit_on_texts(corpus)\n",
    "    tensor = tokenizer.texts_to_sequences(corpus)\n",
    "    tensor = tf.keras.preprocessing.sequence.pad_sequences(tensor, maxlen=15, padding='post')\n",
    "\n",
    "    print(tensor, tokenizer)\n",
    "    return tensor, tokenizer\n",
    "\n",
    "tensor, tokenizer = tokenize(corpus)\n",
    "tensor.shape"
   ]
  },
  {
   "cell_type": "code",
   "execution_count": 6,
   "id": "quantitative-repeat",
   "metadata": {},
   "outputs": [
    {
     "data": {
      "text/plain": [
       "<BatchDataset shapes: ((512, 14), (512, 14)), types: (tf.int32, tf.int32)>"
      ]
     },
     "execution_count": 6,
     "metadata": {},
     "output_type": "execute_result"
    }
   ],
   "source": [
    "src_input = tensor[:, :-1]\n",
    "tgt_input = tensor[:, 1:]\n",
    "BUFFER_SIZE = len(src_input)\n",
    "BATCH_SIZE = 512\n",
    "steps_per_epoch = len(src_input) // BATCH_SIZE\n",
    "\n",
    "VOCAB_SIZE = tokenizer.num_words + 1\n",
    "\n",
    "dataset = tf.data.Dataset.from_tensor_slices((src_input, tgt_input))\n",
    "dataset = dataset.shuffle(BUFFER_SIZE)\n",
    "dataset = dataset.batch(BATCH_SIZE, drop_remainder=True)\n",
    "dataset"
   ]
  },
  {
   "cell_type": "markdown",
   "id": "stretch-caribbean",
   "metadata": {},
   "source": [
    "### 데이터셋 나누기"
   ]
  },
  {
   "cell_type": "code",
   "execution_count": 7,
   "id": "painful-female",
   "metadata": {},
   "outputs": [],
   "source": [
    "enc_train, enc_val, dec_train, dec_val = train_test_split(src_input, tgt_input, test_size=0.2)"
   ]
  },
  {
   "cell_type": "code",
   "execution_count": 8,
   "id": "expanded-spirituality",
   "metadata": {},
   "outputs": [
    {
     "name": "stdout",
     "output_type": "stream",
     "text": [
      "Source Train: (130433, 14)\n",
      "Target Train: (130433, 14)\n"
     ]
    }
   ],
   "source": [
    "print(\"Source Train:\", enc_train.shape)\n",
    "print(\"Target Train:\", dec_train.shape) #(124960, 14)"
   ]
  },
  {
   "cell_type": "markdown",
   "id": "sought-faculty",
   "metadata": {},
   "source": [
    "### 모델만들기"
   ]
  },
  {
   "cell_type": "code",
   "execution_count": 9,
   "id": "hundred-breed",
   "metadata": {},
   "outputs": [],
   "source": [
    "class TextGenerator(tf.keras.Model):\n",
    "    def __init__(self, vocab_size, embedding_size, hidden_size):\n",
    "        super().__init__()\n",
    "        \n",
    "        self.embedding = tf.keras.layers.Embedding(vocab_size, embedding_size)\n",
    "        self.rnn_1 = tf.keras.layers.LSTM(hidden_size, return_sequences=True)\n",
    "        self.rnn_2 = tf.keras.layers.LSTM(hidden_size, return_sequences=True)\n",
    "        self.linear = tf.keras.layers.Dense(vocab_size)\n",
    "        \n",
    "    def call(self, x):\n",
    "        out = self.embedding(x)\n",
    "        out = self.rnn_1(out)\n",
    "        out = self.rnn_2(out)\n",
    "        out = self.linear(out)\n",
    "        \n",
    "        return out\n",
    "    \n",
    "embedding_size = 512\n",
    "hidden_size = 2048\n",
    "lyricist = TextGenerator(tokenizer.num_words + 1, embedding_size, hidden_size)"
   ]
  },
  {
   "cell_type": "code",
   "execution_count": 10,
   "id": "tracked-wyoming",
   "metadata": {},
   "outputs": [
    {
     "data": {
      "text/plain": [
       "<tf.Tensor: shape=(512, 14, 12001), dtype=float32, numpy=\n",
       "array([[[ 1.02877028e-04,  2.68959819e-04, -2.48900091e-04, ...,\n",
       "          2.19804933e-05, -6.49534413e-05, -1.61900152e-05],\n",
       "        [-4.33874739e-05,  3.06912261e-04, -5.15774009e-04, ...,\n",
       "         -2.93427202e-05, -3.46809829e-04, -2.72281439e-04],\n",
       "        [-8.66742630e-05,  3.83853592e-04, -6.06052694e-04, ...,\n",
       "         -2.39043206e-04, -5.66837145e-04, -3.59962694e-04],\n",
       "        ...,\n",
       "        [ 8.61685912e-05, -8.44131515e-04, -1.04152656e-03, ...,\n",
       "          3.34027223e-03, -8.08041077e-04,  5.26698073e-04],\n",
       "        [ 5.02900803e-04, -1.05763704e-03, -1.19680248e-03, ...,\n",
       "          3.04019335e-03, -8.02280032e-04,  4.76910966e-04],\n",
       "        [ 9.83915292e-04, -1.24919915e-03, -1.29928533e-03, ...,\n",
       "          2.89224461e-03, -7.19355128e-04,  3.68148845e-04]],\n",
       "\n",
       "       [[ 1.02877028e-04,  2.68959819e-04, -2.48900091e-04, ...,\n",
       "          2.19804933e-05, -6.49534413e-05, -1.61900152e-05],\n",
       "        [ 1.85350611e-04,  1.34461327e-04, -5.62971458e-04, ...,\n",
       "         -1.38069863e-05, -1.80157949e-04, -4.78970614e-05],\n",
       "        [ 4.22713725e-04, -4.42062046e-05, -5.46051248e-04, ...,\n",
       "          3.69319350e-05, -1.95574830e-04,  1.95098124e-04],\n",
       "        ...,\n",
       "        [ 1.43324188e-03, -2.21080656e-04, -7.48687671e-05, ...,\n",
       "          8.98646103e-05, -9.29545087e-04,  1.31406036e-04],\n",
       "        [ 1.91438547e-03, -1.45931102e-04,  7.22092227e-04, ...,\n",
       "         -1.92241801e-04, -1.04587839e-03,  1.91641651e-04],\n",
       "        [ 2.39642384e-03,  9.74924546e-07,  1.45235576e-03, ...,\n",
       "         -4.49103594e-04, -1.20798545e-03,  2.56514380e-04]],\n",
       "\n",
       "       [[ 1.02877028e-04,  2.68959819e-04, -2.48900091e-04, ...,\n",
       "          2.19804933e-05, -6.49534413e-05, -1.61900152e-05],\n",
       "        [ 2.10932980e-04,  3.01486638e-04, -5.87577058e-04, ...,\n",
       "          3.24667402e-04, -8.53536330e-05, -1.58457813e-04],\n",
       "        [ 1.83567987e-04,  2.55456369e-04, -1.02536101e-03, ...,\n",
       "          6.23165921e-04, -5.93323857e-05,  3.25382425e-04],\n",
       "        ...,\n",
       "        [ 2.21434445e-03, -7.87346391e-04,  1.12721464e-03, ...,\n",
       "         -8.22740025e-04, -1.16867409e-03,  1.23871316e-03],\n",
       "        [ 2.59123091e-03, -5.10845915e-04,  1.74195773e-03, ...,\n",
       "         -1.02115842e-03, -1.35567540e-03,  1.09932828e-03],\n",
       "        [ 2.96771294e-03, -1.96666428e-04,  2.29909108e-03, ...,\n",
       "         -1.17638032e-03, -1.56385568e-03,  9.67468019e-04]],\n",
       "\n",
       "       ...,\n",
       "\n",
       "       [[ 1.02877028e-04,  2.68959819e-04, -2.48900091e-04, ...,\n",
       "          2.19804933e-05, -6.49534413e-05, -1.61900152e-05],\n",
       "        [ 1.31557172e-04,  4.67629085e-04, -7.17514253e-04, ...,\n",
       "          2.38814446e-05, -3.41067236e-04, -3.76182550e-04],\n",
       "        [ 7.65154036e-05,  1.89685685e-04, -8.03195115e-04, ...,\n",
       "          1.42765755e-04, -4.18559881e-04, -1.81530020e-04],\n",
       "        ...,\n",
       "        [ 1.99521752e-03, -6.55674899e-04,  8.66824936e-04, ...,\n",
       "         -1.90901410e-04, -1.22491503e-03, -3.79075733e-04],\n",
       "        [ 2.50371965e-03, -5.65661874e-04,  1.54172408e-03, ...,\n",
       "         -4.84172604e-04, -1.49739149e-03, -3.26779875e-04],\n",
       "        [ 2.98607047e-03, -4.01450205e-04,  2.14320933e-03, ...,\n",
       "         -7.39162497e-04, -1.76378782e-03, -2.61921552e-04]],\n",
       "\n",
       "       [[ 1.02877028e-04,  2.68959819e-04, -2.48900091e-04, ...,\n",
       "          2.19804933e-05, -6.49534413e-05, -1.61900152e-05],\n",
       "        [-4.00421668e-05,  2.41320507e-04, -1.29442516e-04, ...,\n",
       "          2.44176626e-04, -3.30198323e-04, -2.22594550e-04],\n",
       "        [-2.16833767e-04,  6.57284036e-05,  9.88056418e-05, ...,\n",
       "          4.13425994e-04, -5.99564984e-04, -5.39973669e-04],\n",
       "        ...,\n",
       "        [ 3.05120950e-03, -1.06334919e-03,  3.23846960e-03, ...,\n",
       "         -1.56728085e-03, -1.67421659e-03, -1.03949837e-03],\n",
       "        [ 3.51636857e-03, -7.43426208e-04,  3.60717508e-03, ...,\n",
       "         -1.74002745e-03, -1.83679385e-03, -9.14419943e-04],\n",
       "        [ 3.93908191e-03, -3.96626827e-04,  3.91021511e-03, ...,\n",
       "         -1.85599097e-03, -1.99688878e-03, -7.78914837e-04]],\n",
       "\n",
       "       [[ 1.02877028e-04,  2.68959819e-04, -2.48900091e-04, ...,\n",
       "          2.19804933e-05, -6.49534413e-05, -1.61900152e-05],\n",
       "        [ 4.41745797e-04,  1.68819097e-04, -5.07511548e-04, ...,\n",
       "         -1.27025385e-04, -1.97576242e-04,  1.48903537e-05],\n",
       "        [ 4.30525251e-04,  1.14685885e-04, -4.96283115e-04, ...,\n",
       "         -1.50538268e-04, -2.69821758e-04,  2.53471080e-04],\n",
       "        ...,\n",
       "        [ 1.73849636e-04, -5.20425732e-04, -7.32072338e-04, ...,\n",
       "         -8.18141620e-04, -7.20456184e-04, -1.09583838e-03],\n",
       "        [ 6.43576321e-04, -6.30633964e-04, -4.51656349e-04, ...,\n",
       "         -8.17477179e-04, -5.94850339e-04, -1.19665719e-03],\n",
       "        [ 1.18837808e-03, -6.86527637e-04,  4.00535355e-05, ...,\n",
       "         -9.45398060e-04, -5.18956629e-04, -1.19353563e-03]]],\n",
       "      dtype=float32)>"
      ]
     },
     "execution_count": 10,
     "metadata": {},
     "output_type": "execute_result"
    }
   ],
   "source": [
    "for src_sample, tgt_sample in dataset.take(1): break\n",
    "lyricist(src_sample)"
   ]
  },
  {
   "cell_type": "code",
   "execution_count": 12,
   "id": "rental-excerpt",
   "metadata": {},
   "outputs": [
    {
     "name": "stdout",
     "output_type": "stream",
     "text": [
      "Model: \"text_generator\"\n",
      "_________________________________________________________________\n",
      "Layer (type)                 Output Shape              Param #   \n",
      "=================================================================\n",
      "embedding (Embedding)        multiple                  6144512   \n",
      "_________________________________________________________________\n",
      "lstm (LSTM)                  multiple                  20979712  \n",
      "_________________________________________________________________\n",
      "lstm_1 (LSTM)                multiple                  33562624  \n",
      "_________________________________________________________________\n",
      "dense (Dense)                multiple                  24590049  \n",
      "=================================================================\n",
      "Total params: 85,276,897\n",
      "Trainable params: 85,276,897\n",
      "Non-trainable params: 0\n",
      "_________________________________________________________________\n"
     ]
    }
   ],
   "source": [
    "lyricist.summary()"
   ]
  },
  {
   "cell_type": "markdown",
   "id": "expected-break",
   "metadata": {},
   "source": [
    "### 학습\n",
    "10 epoch, val_loss 2.2"
   ]
  },
  {
   "cell_type": "code",
   "execution_count": 14,
   "id": "urban-denmark",
   "metadata": {},
   "outputs": [
    {
     "name": "stdout",
     "output_type": "stream",
     "text": [
      "Epoch 1/10\n",
      "318/318 [==============================] - 497s 2s/step - loss: 3.9998\n",
      "Epoch 2/10\n",
      "318/318 [==============================] - 500s 2s/step - loss: 2.9835\n",
      "Epoch 3/10\n",
      "318/318 [==============================] - 502s 2s/step - loss: 2.7444\n",
      "Epoch 4/10\n",
      "318/318 [==============================] - 502s 2s/step - loss: 2.5310\n",
      "Epoch 5/10\n",
      "318/318 [==============================] - 501s 2s/step - loss: 2.3283\n",
      "Epoch 6/10\n",
      "318/318 [==============================] - 501s 2s/step - loss: 2.1367\n",
      "Epoch 7/10\n",
      "318/318 [==============================] - 501s 2s/step - loss: 1.9642\n",
      "Epoch 8/10\n",
      "318/318 [==============================] - 500s 2s/step - loss: 1.7947\n",
      "Epoch 9/10\n",
      "318/318 [==============================] - 500s 2s/step - loss: 1.6339\n",
      "Epoch 10/10\n",
      "318/318 [==============================] - 500s 2s/step - loss: 1.4979\n"
     ]
    },
    {
     "data": {
      "text/plain": [
       "<tensorflow.python.keras.callbacks.History at 0x7fd658c23a10>"
      ]
     },
     "execution_count": 14,
     "metadata": {},
     "output_type": "execute_result"
    }
   ],
   "source": [
    "optimizer = tf.keras.optimizers.Adam()\n",
    "\n",
    "loss = tf.keras.losses.SparseCategoricalCrossentropy(\n",
    "    from_logits=True, reduction='none')\n",
    "\n",
    "lyricist.compile(loss=loss, optimizer=optimizer)\n",
    "lyricist.fit(dataset, epochs=10)"
   ]
  },
  {
   "cell_type": "markdown",
   "id": "contemporary-nomination",
   "metadata": {},
   "source": [
    "### 평가"
   ]
  },
  {
   "cell_type": "code",
   "execution_count": 17,
   "id": "saved-effectiveness",
   "metadata": {},
   "outputs": [],
   "source": [
    "def generate_text(lyricist, tokenizer, init_sentence=\"<start>\", max_len=14):\n",
    "    test_input = tokenizer.texts_to_sequences([init_sentence])\n",
    "    test_tensor = tf.convert_to_tensor(test_input, dtype=tf.int64)\n",
    "    end_token = tokenizer.word_index[\"<end>\"]\n",
    "\n",
    "    while True:\n",
    "        predict = lyricist(test_tensor) \n",
    "        predict_word = tf.argmax(tf.nn.softmax(predict, axis=-1), axis=-1)[:, -1] \n",
    "        test_tensor = tf.concat([test_tensor, tf.expand_dims(predict_word, axis=0)], axis=-1)\n",
    "        if predict_word.numpy()[0] == end_token: break\n",
    "        if test_tensor.shape[1] >= max_len: break\n",
    "\n",
    "    generated = \"\"\n",
    "    for word_index in test_tensor[0].numpy():\n",
    "        generated += tokenizer.index_word[word_index] + \" \"\n",
    "\n",
    "    return generated"
   ]
  },
  {
   "cell_type": "code",
   "execution_count": 20,
   "id": "restricted-delta",
   "metadata": {},
   "outputs": [
    {
     "data": {
      "text/plain": [
       "'<start> i love you <end> '"
      ]
     },
     "execution_count": 20,
     "metadata": {},
     "output_type": "execute_result"
    }
   ],
   "source": [
    "generate_text(lyricist, tokenizer, init_sentence=\"<start> i love\", max_len=14)"
   ]
  },
  {
   "cell_type": "code",
   "execution_count": 21,
   "id": "editorial-great",
   "metadata": {},
   "outputs": [
    {
     "data": {
      "text/plain": [
       "'<start> i know you got your wall wrapped all the way around your heart '"
      ]
     },
     "execution_count": 21,
     "metadata": {},
     "output_type": "execute_result"
    }
   ],
   "source": [
    "generate_text(lyricist, tokenizer, init_sentence=\"<start> i \", max_len=14)"
   ]
  },
  {
   "cell_type": "code",
   "execution_count": 22,
   "id": "religious-arizona",
   "metadata": {},
   "outputs": [
    {
     "data": {
      "text/plain": [
       "'<start> you know i love you <end> '"
      ]
     },
     "execution_count": 22,
     "metadata": {},
     "output_type": "execute_result"
    }
   ],
   "source": [
    "generate_text(lyricist, tokenizer, init_sentence=\"<start> you\", max_len=14)"
   ]
  },
  {
   "cell_type": "code",
   "execution_count": 23,
   "id": "large-warrior",
   "metadata": {},
   "outputs": [
    {
     "data": {
      "text/plain": [
       "'<start> my <unk> viagra and a strawberry pop <end> '"
      ]
     },
     "execution_count": 23,
     "metadata": {},
     "output_type": "execute_result"
    }
   ],
   "source": [
    "generate_text(lyricist, tokenizer, init_sentence=\"<start> my\", max_len=14)"
   ]
  },
  {
   "cell_type": "code",
   "execution_count": null,
   "id": "regulation-panic",
   "metadata": {},
   "outputs": [],
   "source": []
  },
  {
   "cell_type": "code",
   "execution_count": null,
   "id": "charming-embassy",
   "metadata": {},
   "outputs": [],
   "source": []
  }
 ],
 "metadata": {
  "kernelspec": {
   "display_name": "Python 3",
   "language": "python",
   "name": "python3"
  },
  "language_info": {
   "codemirror_mode": {
    "name": "ipython",
    "version": 3
   },
   "file_extension": ".py",
   "mimetype": "text/x-python",
   "name": "python",
   "nbconvert_exporter": "python",
   "pygments_lexer": "ipython3",
   "version": "3.7.9"
  }
 },
 "nbformat": 4,
 "nbformat_minor": 5
}
