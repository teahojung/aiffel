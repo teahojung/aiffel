{
 "cells": [
  {
   "cell_type": "markdown",
   "id": "endless-continuity",
   "metadata": {},
   "source": [
    "1. 데이터준비하기"
   ]
  },
  {
   "cell_type": "code",
   "execution_count": 1,
   "id": "trying-dayton",
   "metadata": {},
   "outputs": [
    {
     "name": "stderr",
     "output_type": "stream",
     "text": [
      "[nltk_data] Downloading package stopwords to /aiffel/nltk_data...\n",
      "[nltk_data]   Unzipping corpora/stopwords.zip.\n"
     ]
    },
    {
     "name": "stdout",
     "output_type": "stream",
     "text": [
      "=3\n"
     ]
    }
   ],
   "source": [
    "import nltk\n",
    "nltk.download('stopwords')\n",
    "\n",
    "import numpy as np\n",
    "import pandas as pd\n",
    "import os\n",
    "import re\n",
    "import matplotlib.pyplot as plt\n",
    "from nltk.corpus import stopwords\n",
    "from bs4 import BeautifulSoup \n",
    "from tensorflow.keras.preprocessing.text import Tokenizer \n",
    "from tensorflow.keras.preprocessing.sequence import pad_sequences\n",
    "import urllib.request\n",
    "\n",
    "print('=3')"
   ]
  },
  {
   "cell_type": "code",
   "execution_count": 2,
   "id": "other-suffering",
   "metadata": {},
   "outputs": [],
   "source": [
    "import urllib.request\n",
    "urllib.request.urlretrieve(\"https://raw.githubusercontent.com/sunnysai12345/News_Summary/master/news_summary_more.csv\", filename=\"news_summary_more.csv\")\n",
    "data = pd.read_csv('news_summary_more.csv', encoding='iso-8859-1')"
   ]
  },
  {
   "cell_type": "code",
   "execution_count": 3,
   "id": "light-carter",
   "metadata": {},
   "outputs": [
    {
     "data": {
      "text/html": [
       "<div>\n",
       "<style scoped>\n",
       "    .dataframe tbody tr th:only-of-type {\n",
       "        vertical-align: middle;\n",
       "    }\n",
       "\n",
       "    .dataframe tbody tr th {\n",
       "        vertical-align: top;\n",
       "    }\n",
       "\n",
       "    .dataframe thead th {\n",
       "        text-align: right;\n",
       "    }\n",
       "</style>\n",
       "<table border=\"1\" class=\"dataframe\">\n",
       "  <thead>\n",
       "    <tr style=\"text-align: right;\">\n",
       "      <th></th>\n",
       "      <th>headlines</th>\n",
       "      <th>text</th>\n",
       "    </tr>\n",
       "  </thead>\n",
       "  <tbody>\n",
       "    <tr>\n",
       "      <th>51956</th>\n",
       "      <td>Commonwealth Games champ to star in movie on w...</td>\n",
       "      <td>Commonwealth Games gold medal-winning archer D...</td>\n",
       "    </tr>\n",
       "    <tr>\n",
       "      <th>74274</th>\n",
       "      <td>Jhulan's WC semis jersey to be displayed at sp...</td>\n",
       "      <td>Indian women's team pacer Jhulan Goswami's Wor...</td>\n",
       "    </tr>\n",
       "    <tr>\n",
       "      <th>18750</th>\n",
       "      <td>Karnataka offers Ã¢ÂÂ¹50L grant to startups w...</td>\n",
       "      <td>The Karnataka government on Monday announced i...</td>\n",
       "    </tr>\n",
       "    <tr>\n",
       "      <th>82030</th>\n",
       "      <td>Website accused of blackmail after removing im...</td>\n",
       "      <td>Image hosting website Photobucket has been acc...</td>\n",
       "    </tr>\n",
       "    <tr>\n",
       "      <th>35998</th>\n",
       "      <td>Over 16,000 missing cases filed in Bengaluru i...</td>\n",
       "      <td>Over 16,000 missing complaints have been recor...</td>\n",
       "    </tr>\n",
       "    <tr>\n",
       "      <th>17615</th>\n",
       "      <td>Time for Google to answer: US politician on mi...</td>\n",
       "      <td>Talking about Google missing the testimony on ...</td>\n",
       "    </tr>\n",
       "    <tr>\n",
       "      <th>71542</th>\n",
       "      <td>Banks must be merged when healthy: Raghuram Rajan</td>\n",
       "      <td>Former RBI Governor Raghuram Rajan has said it...</td>\n",
       "    </tr>\n",
       "    <tr>\n",
       "      <th>10252</th>\n",
       "      <td>Khalibali ho gaya hai dil: Mika on Rakhi Sawan...</td>\n",
       "      <td>After actress Rakhi Sawant was hospitalised fo...</td>\n",
       "    </tr>\n",
       "    <tr>\n",
       "      <th>78948</th>\n",
       "      <td>Flyers smuggle gold in toothpaste tubes, stitc...</td>\n",
       "      <td>Passengers were allegedly found smuggling gold...</td>\n",
       "    </tr>\n",
       "    <tr>\n",
       "      <th>35933</th>\n",
       "      <td>Decomposed body of 50-year-old found at her ho...</td>\n",
       "      <td>The Mumbai police on Wednesday recovered the d...</td>\n",
       "    </tr>\n",
       "  </tbody>\n",
       "</table>\n",
       "</div>"
      ],
      "text/plain": [
       "                                               headlines  \\\n",
       "51956  Commonwealth Games champ to star in movie on w...   \n",
       "74274  Jhulan's WC semis jersey to be displayed at sp...   \n",
       "18750  Karnataka offers Ã¢ÂÂ¹50L grant to startups w...   \n",
       "82030  Website accused of blackmail after removing im...   \n",
       "35998  Over 16,000 missing cases filed in Bengaluru i...   \n",
       "17615  Time for Google to answer: US politician on mi...   \n",
       "71542  Banks must be merged when healthy: Raghuram Rajan   \n",
       "10252  Khalibali ho gaya hai dil: Mika on Rakhi Sawan...   \n",
       "78948  Flyers smuggle gold in toothpaste tubes, stitc...   \n",
       "35933  Decomposed body of 50-year-old found at her ho...   \n",
       "\n",
       "                                                    text  \n",
       "51956  Commonwealth Games gold medal-winning archer D...  \n",
       "74274  Indian women's team pacer Jhulan Goswami's Wor...  \n",
       "18750  The Karnataka government on Monday announced i...  \n",
       "82030  Image hosting website Photobucket has been acc...  \n",
       "35998  Over 16,000 missing complaints have been recor...  \n",
       "17615  Talking about Google missing the testimony on ...  \n",
       "71542  Former RBI Governor Raghuram Rajan has said it...  \n",
       "10252  After actress Rakhi Sawant was hospitalised fo...  \n",
       "78948  Passengers were allegedly found smuggling gold...  \n",
       "35933  The Mumbai police on Wednesday recovered the d...  "
      ]
     },
     "execution_count": 3,
     "metadata": {},
     "output_type": "execute_result"
    }
   ],
   "source": [
    "data.sample(10)"
   ]
  },
  {
   "cell_type": "markdown",
   "id": "offshore-williams",
   "metadata": {},
   "source": [
    "2. 데이터 전처리하기 (추상적요약)"
   ]
  },
  {
   "cell_type": "code",
   "execution_count": 4,
   "id": "addressed-decrease",
   "metadata": {},
   "outputs": [
    {
     "name": "stdout",
     "output_type": "stream",
     "text": [
      "headlines 열에서 중복을 배제한 유일한 샘플의 수 : 98280\n",
      "text 열에서 중복을 배제한 유일한 샘플의 수 : 98360\n"
     ]
    }
   ],
   "source": [
    "print('headlines 열에서 중복을 배제한 유일한 샘플의 수 :', data['headlines'].nunique())\n",
    "print('text 열에서 중복을 배제한 유일한 샘플의 수 :', data['text'].nunique())"
   ]
  },
  {
   "cell_type": "code",
   "execution_count": 5,
   "id": "animal-channels",
   "metadata": {},
   "outputs": [
    {
     "name": "stdout",
     "output_type": "stream",
     "text": [
      "전체 샘플수 : 98360\n"
     ]
    }
   ],
   "source": [
    "# inplace=True 를 설정하면 DataFrame 타입 값을 return 하지 않고 data 내부를 직접적으로 바꿉니다\n",
    "data.drop_duplicates(subset = ['text'], inplace=True)\n",
    "print('전체 샘플수 :', (len(data)))"
   ]
  },
  {
   "cell_type": "code",
   "execution_count": 6,
   "id": "passing-information",
   "metadata": {},
   "outputs": [
    {
     "name": "stdout",
     "output_type": "stream",
     "text": [
      "headlines    0\n",
      "text         0\n",
      "dtype: int64\n"
     ]
    }
   ],
   "source": [
    "print(data.isnull().sum())"
   ]
  },
  {
   "cell_type": "code",
   "execution_count": 7,
   "id": "ancient-drain",
   "metadata": {},
   "outputs": [
    {
     "name": "stdout",
     "output_type": "stream",
     "text": [
      "정규화 사전의 수:  120\n"
     ]
    }
   ],
   "source": [
    "contractions = {\"ain't\": \"is not\", \"aren't\": \"are not\",\"can't\": \"cannot\", \"'cause\": \"because\", \"could've\": \"could have\", \"couldn't\": \"could not\",\n",
    "                           \"didn't\": \"did not\",  \"doesn't\": \"does not\", \"don't\": \"do not\", \"hadn't\": \"had not\", \"hasn't\": \"has not\", \"haven't\": \"have not\",\n",
    "                           \"he'd\": \"he would\",\"he'll\": \"he will\", \"he's\": \"he is\", \"how'd\": \"how did\", \"how'd'y\": \"how do you\", \"how'll\": \"how will\", \"how's\": \"how is\",\n",
    "                           \"I'd\": \"I would\", \"I'd've\": \"I would have\", \"I'll\": \"I will\", \"I'll've\": \"I will have\",\"I'm\": \"I am\", \"I've\": \"I have\", \"i'd\": \"i would\",\n",
    "                           \"i'd've\": \"i would have\", \"i'll\": \"i will\",  \"i'll've\": \"i will have\",\"i'm\": \"i am\", \"i've\": \"i have\", \"isn't\": \"is not\", \"it'd\": \"it would\",\n",
    "                           \"it'd've\": \"it would have\", \"it'll\": \"it will\", \"it'll've\": \"it will have\",\"it's\": \"it is\", \"let's\": \"let us\", \"ma'am\": \"madam\",\n",
    "                           \"mayn't\": \"may not\", \"might've\": \"might have\",\"mightn't\": \"might not\",\"mightn't've\": \"might not have\", \"must've\": \"must have\",\n",
    "                           \"mustn't\": \"must not\", \"mustn't've\": \"must not have\", \"needn't\": \"need not\", \"needn't've\": \"need not have\",\"o'clock\": \"of the clock\",\n",
    "                           \"oughtn't\": \"ought not\", \"oughtn't've\": \"ought not have\", \"shan't\": \"shall not\", \"sha'n't\": \"shall not\", \"shan't've\": \"shall not have\",\n",
    "                           \"she'd\": \"she would\", \"she'd've\": \"she would have\", \"she'll\": \"she will\", \"she'll've\": \"she will have\", \"she's\": \"she is\",\n",
    "                           \"should've\": \"should have\", \"shouldn't\": \"should not\", \"shouldn't've\": \"should not have\", \"so've\": \"so have\",\"so's\": \"so as\",\n",
    "                           \"this's\": \"this is\",\"that'd\": \"that would\", \"that'd've\": \"that would have\", \"that's\": \"that is\", \"there'd\": \"there would\",\n",
    "                           \"there'd've\": \"there would have\", \"there's\": \"there is\", \"here's\": \"here is\",\"they'd\": \"they would\", \"they'd've\": \"they would have\",\n",
    "                           \"they'll\": \"they will\", \"they'll've\": \"they will have\", \"they're\": \"they are\", \"they've\": \"they have\", \"to've\": \"to have\",\n",
    "                           \"wasn't\": \"was not\", \"we'd\": \"we would\", \"we'd've\": \"we would have\", \"we'll\": \"we will\", \"we'll've\": \"we will have\", \"we're\": \"we are\",\n",
    "                           \"we've\": \"we have\", \"weren't\": \"were not\", \"what'll\": \"what will\", \"what'll've\": \"what will have\", \"what're\": \"what are\",\n",
    "                           \"what's\": \"what is\", \"what've\": \"what have\", \"when's\": \"when is\", \"when've\": \"when have\", \"where'd\": \"where did\", \"where's\": \"where is\",\n",
    "                           \"where've\": \"where have\", \"who'll\": \"who will\", \"who'll've\": \"who will have\", \"who's\": \"who is\", \"who've\": \"who have\",\n",
    "                           \"why's\": \"why is\", \"why've\": \"why have\", \"will've\": \"will have\", \"won't\": \"will not\", \"won't've\": \"will not have\",\n",
    "                           \"would've\": \"would have\", \"wouldn't\": \"would not\", \"wouldn't've\": \"would not have\", \"y'all\": \"you all\",\n",
    "                           \"y'all'd\": \"you all would\",\"y'all'd've\": \"you all would have\",\"y'all're\": \"you all are\",\"y'all've\": \"you all have\",\n",
    "                           \"you'd\": \"you would\", \"you'd've\": \"you would have\", \"you'll\": \"you will\", \"you'll've\": \"you will have\",\n",
    "                           \"you're\": \"you are\", \"you've\": \"you have\"}\n",
    "\n",
    "print(\"정규화 사전의 수: \", len(contractions))"
   ]
  },
  {
   "cell_type": "code",
   "execution_count": 8,
   "id": "broken-championship",
   "metadata": {},
   "outputs": [
    {
     "name": "stdout",
     "output_type": "stream",
     "text": [
      "불용어 개수 : 179\n",
      "['i', 'me', 'my', 'myself', 'we', 'our', 'ours', 'ourselves', 'you', \"you're\", \"you've\", \"you'll\", \"you'd\", 'your', 'yours', 'yourself', 'yourselves', 'he', 'him', 'his', 'himself', 'she', \"she's\", 'her', 'hers', 'herself', 'it', \"it's\", 'its', 'itself', 'they', 'them', 'their', 'theirs', 'themselves', 'what', 'which', 'who', 'whom', 'this', 'that', \"that'll\", 'these', 'those', 'am', 'is', 'are', 'was', 'were', 'be', 'been', 'being', 'have', 'has', 'had', 'having', 'do', 'does', 'did', 'doing', 'a', 'an', 'the', 'and', 'but', 'if', 'or', 'because', 'as', 'until', 'while', 'of', 'at', 'by', 'for', 'with', 'about', 'against', 'between', 'into', 'through', 'during', 'before', 'after', 'above', 'below', 'to', 'from', 'up', 'down', 'in', 'out', 'on', 'off', 'over', 'under', 'again', 'further', 'then', 'once', 'here', 'there', 'when', 'where', 'why', 'how', 'all', 'any', 'both', 'each', 'few', 'more', 'most', 'other', 'some', 'such', 'no', 'nor', 'not', 'only', 'own', 'same', 'so', 'than', 'too', 'very', 's', 't', 'can', 'will', 'just', 'don', \"don't\", 'should', \"should've\", 'now', 'd', 'll', 'm', 'o', 're', 've', 'y', 'ain', 'aren', \"aren't\", 'couldn', \"couldn't\", 'didn', \"didn't\", 'doesn', \"doesn't\", 'hadn', \"hadn't\", 'hasn', \"hasn't\", 'haven', \"haven't\", 'isn', \"isn't\", 'ma', 'mightn', \"mightn't\", 'mustn', \"mustn't\", 'needn', \"needn't\", 'shan', \"shan't\", 'shouldn', \"shouldn't\", 'wasn', \"wasn't\", 'weren', \"weren't\", 'won', \"won't\", 'wouldn', \"wouldn't\"]\n"
     ]
    }
   ],
   "source": [
    "print('불용어 개수 :', len(stopwords.words('english') ))\n",
    "print(stopwords.words('english'))"
   ]
  },
  {
   "cell_type": "code",
   "execution_count": 9,
   "id": "logical-florida",
   "metadata": {},
   "outputs": [],
   "source": [
    "# 데이터 전처리 함수\n",
    "def preprocess_sentence(sentence, remove_stopwords=True):\n",
    "    sentence = sentence.lower() # 텍스트 소문자화\n",
    "    sentence = BeautifulSoup(sentence, \"lxml\").text # <br />, <a href = ...> 등의 html 태그 제거\n",
    "    sentence = re.sub(r'\\([^)]*\\)', '', sentence) # 괄호로 닫힌 문자열 (...) 제거 Ex) my husband (and myself!) for => my husband for\n",
    "    sentence = re.sub('\"','', sentence) # 쌍따옴표 \" 제거\n",
    "    sentence = ' '.join([contractions[t] if t in contractions else t for t in sentence.split(\" \")]) # 약어 정규화\n",
    "    sentence = re.sub(r\"'s\\b\",\"\", sentence) # 소유격 제거. Ex) roland's -> roland\n",
    "    sentence = re.sub(\"[^a-zA-Z]\", \" \", sentence) # 영어 외 문자(숫자, 특수문자 등) 공백으로 변환\n",
    "    sentence = re.sub('[m]{2,}', 'mm', sentence) # m이 3개 이상이면 2개로 변경. Ex) ummmmmmm yeah -> umm yeah\n",
    "    \n",
    "    # 불용어 제거 (Text)\n",
    "    if remove_stopwords:\n",
    "        tokens = ' '.join(word for word in sentence.split() if not word in stopwords.words('english') if len(word) > 1)\n",
    "    # 불용어 미제거 (Summary)\n",
    "    else:\n",
    "        tokens = ' '.join(word for word in sentence.split() if len(word) > 1)\n",
    "    return tokens"
   ]
  },
  {
   "cell_type": "code",
   "execution_count": 10,
   "id": "centered-package",
   "metadata": {},
   "outputs": [
    {
     "name": "stdout",
     "output_type": "stream",
     "text": [
      "everything bought great infact ordered twice third ordered wasfor mother father\n",
      "great way to start the day\n"
     ]
    }
   ],
   "source": [
    "temp_text = 'Everything I bought was great, infact I ordered twice and the third ordered was<br />for my mother and father.'\n",
    "temp_summary = 'Great way to start (or finish) the day!!!'\n",
    "\n",
    "print(preprocess_sentence(temp_text))\n",
    "print(preprocess_sentence(temp_summary, False))  # 불용어를 제거하지 않습니다."
   ]
  },
  {
   "cell_type": "code",
   "execution_count": 11,
   "id": "covered-concentration",
   "metadata": {},
   "outputs": [
    {
     "name": "stdout",
     "output_type": "stream",
     "text": [
      "188.1487853527069  seconds\n",
      "['saurav kant alumnus upgrad iiit pg program machine learning artificial intelligence sr systems engineer infosys almost years work experience program upgrad degree career support helped transition data scientist tech mahindra salary hike upgrad online power learning powered lakh careers'\n",
      " 'kunal shah credit card bill payment platform cred gave users chance win free food swiggy one year pranav kaushik delhi techie bagged reward spending cred coins users get one cred coin per rupee bill paid used avail rewards brands like ixigo bookmyshow ubereats cult fit'\n",
      " 'new zealand defeated india wickets fourth odi hamilton thursday win first match five match odi series india lost international match rohit sharma captaincy consecutive victories dating back march match witnessed india getting seventh lowest total odi cricket history'\n",
      " ...\n",
      " 'according reports new version science fiction film matrix development michael jordan reportedly play lead role film screenwriter zak penn talks write script film reports added actor keanu reeves starred original film followed two sequels'\n",
      " 'new music video shows rapper snoop dogg aiming toy gun clown character parodying us president donald trump video also shows tv airing news conference headline ronald klump wants deport doggs airing live clown house video remixed version song lavender'\n",
      " 'madhesi morcha alliance seven political parties withdrawn support pm pushpa kamal dahal led nepal government failed meet seven day ultimatum fulfil demands including endorsement revised constitution amendment bill morcha seats parliament despite withdrawal support immediate threat government']\n"
     ]
    }
   ],
   "source": [
    "import multiprocessing as mp   # 멀티 프로세싱으로 전처리 속도를 획기적으로 줄여봅시다\n",
    "from multiprocessing import Pool\n",
    "import numpy as np\n",
    "import time\n",
    "from functools import partial  # map을 할 때 함수에 여러 인자를 넣어줄 수 있도록 합니다\n",
    "\n",
    "start = time.time()\n",
    "\n",
    "# num_cores 만큼 쪼개진 데이터를 전처리하여 반환합니다\n",
    "def appendTexts(sentences, remove_stopwords):\n",
    "  texts = []\n",
    "  for s in sentences:\n",
    "    texts += preprocess_sentence(s, remove_stopwords),\n",
    "  return texts\n",
    "\n",
    "def preprocess_data(data, remove_stopwords=True):\n",
    "  start_time = time.time()\n",
    "  num_cores = mp.cpu_count()  # 컴퓨터의 코어 수를 구합니다\n",
    "\n",
    "  text_data_split = np.array_split(data, num_cores)  # 코어 수만큼 데이터를 배분하여 병렬적으로 처리할 수 있게 합니다\n",
    "  pool = Pool(num_cores)\n",
    "\n",
    "  processed_data = np.concatenate(pool.map(partial(appendTexts, remove_stopwords=remove_stopwords), text_data_split))  # 각자 작업한 데이터를 하나로 합쳐줍니다\n",
    "  pool.close()\n",
    "  pool.join()\n",
    "  print(time.time() - start_time, \" seconds\")\n",
    "  return processed_data\n",
    "\n",
    "clean_text = preprocess_data(data['text'])  # 클라우드 기준으로 3~4분 정도 소요 됩니다\n",
    "print(clean_text)"
   ]
  },
  {
   "cell_type": "code",
   "execution_count": 12,
   "id": "behavioral-sleep",
   "metadata": {},
   "outputs": [
    {
     "name": "stdout",
     "output_type": "stream",
     "text": [
      "6.112835645675659  seconds\n",
      "['upgrad learner switches to career in ml al with salary hike'\n",
      " 'delhi techie wins free food from swiggy for one year on cred'\n",
      " 'new zealand end rohit sharma led india match winning streak' ...\n",
      " 'the matrix film to get reboot reports'\n",
      " 'snoop dogg aims gun at clown dressed as trump in new video'\n",
      " 'madhesi morcha withdraws support to nepalese government']\n"
     ]
    }
   ],
   "source": [
    "clean_headlines = preprocess_data(data['headlines'], remove_stopwords=False) # 클라우드 기준 1분정도 소요됩니다.\n",
    "print(clean_headlines)"
   ]
  },
  {
   "cell_type": "code",
   "execution_count": 13,
   "id": "former-complexity",
   "metadata": {},
   "outputs": [],
   "source": [
    "data['text'] = clean_text\n",
    "data['headlines'] = clean_headlines\n",
    "\n",
    "# 빈 값을 Null 값으로 변환\n",
    "data.replace('', np.nan, inplace=True)"
   ]
  },
  {
   "cell_type": "code",
   "execution_count": 14,
   "id": "accompanied-johns",
   "metadata": {},
   "outputs": [
    {
     "data": {
      "text/plain": [
       "headlines    0\n",
       "text         0\n",
       "dtype: int64"
      ]
     },
     "execution_count": 14,
     "metadata": {},
     "output_type": "execute_result"
    }
   ],
   "source": [
    "data.isnull().sum()"
   ]
  },
  {
   "cell_type": "code",
   "execution_count": 15,
   "id": "established-briefs",
   "metadata": {},
   "outputs": [
    {
     "name": "stdout",
     "output_type": "stream",
     "text": [
      "전체 샘플수 : 98360\n"
     ]
    }
   ],
   "source": [
    "data.dropna(axis=0, inplace=True)\n",
    "print('전체 샘플수 :', (len(data)))"
   ]
  },
  {
   "cell_type": "markdown",
   "id": "critical-emission",
   "metadata": {},
   "source": [
    "데이터 전처리하기 (2) 훈련데이터와 테스트데이터 나누기"
   ]
  },
  {
   "cell_type": "code",
   "execution_count": 16,
   "id": "absolute-garlic",
   "metadata": {},
   "outputs": [
    {
     "name": "stdout",
     "output_type": "stream",
     "text": [
      "텍스트의 최소 길이 : 1\n",
      "텍스트의 최대 길이 : 60\n",
      "텍스트의 평균 길이 : 35.09968483123221\n",
      "요약의 최소 길이 : 1\n",
      "요약의 최대 길이 : 16\n",
      "요약의 평균 길이 : 9.299532330215534\n"
     ]
    },
    {
     "data": {
      "image/png": "[encoded data removed]",
      "text/plain": [
       "<Figure size 432x288 with 2 Axes>"
      ]
     },
     "metadata": {
      "needs_background": "light"
     },
     "output_type": "display_data"
    },
    {
     "data": {
      "image/png": "[encoded data removed]",
      "text/plain": [
       "<Figure size 432x288 with 1 Axes>"
      ]
     },
     "metadata": {
      "needs_background": "light"
     },
     "output_type": "display_data"
    },
    {
     "data": {
      "image/png": "[encoded data removed]",
      "text/plain": [
       "<Figure size 432x288 with 1 Axes>"
      ]
     },
     "metadata": {
      "needs_background": "light"
     },
     "output_type": "display_data"
    }
   ],
   "source": [
    "# 길이 분포 출력\n",
    "import matplotlib.pyplot as plt\n",
    "\n",
    "text_len = [len(s.split()) for s in data['text']]\n",
    "headlines_len = [len(s.split()) for s in data['headlines']]\n",
    "\n",
    "print('텍스트의 최소 길이 : {}'.format(np.min(text_len)))\n",
    "print('텍스트의 최대 길이 : {}'.format(np.max(text_len)))\n",
    "print('텍스트의 평균 길이 : {}'.format(np.mean(text_len)))\n",
    "print('요약의 최소 길이 : {}'.format(np.min(headlines_len)))\n",
    "print('요약의 최대 길이 : {}'.format(np.max(headlines_len)))\n",
    "print('요약의 평균 길이 : {}'.format(np.mean(headlines_len)))\n",
    "\n",
    "plt.subplot(1,2,1)\n",
    "plt.boxplot(headlines_len)\n",
    "plt.title('headlines')\n",
    "plt.subplot(1,2,2)\n",
    "plt.boxplot(text_len)\n",
    "plt.title('text')\n",
    "plt.tight_layout()\n",
    "plt.show()\n",
    "\n",
    "plt.title('headlines')\n",
    "plt.hist(headlines_len, bins = 40)\n",
    "plt.xlabel('length of samples')\n",
    "plt.ylabel('number of samples')\n",
    "plt.show()\n",
    "\n",
    "plt.title('text')\n",
    "plt.hist(text_len, bins = 40)\n",
    "plt.xlabel('length of samples')\n",
    "plt.ylabel('number of samples')\n",
    "plt.show()"
   ]
  },
  {
   "cell_type": "code",
   "execution_count": 17,
   "id": "accessible-tattoo",
   "metadata": {},
   "outputs": [],
   "source": [
    "text_max_len = 50\n",
    "headlines_max_len = 8"
   ]
  },
  {
   "cell_type": "code",
   "execution_count": 18,
   "id": "motivated-majority",
   "metadata": {},
   "outputs": [],
   "source": [
    "def below_threshold_len(max_len, nested_list):\n",
    "  cnt = 0\n",
    "  for s in nested_list:\n",
    "    if(len(s.split()) <= max_len):\n",
    "        cnt = cnt + 1\n",
    "  print('전체 샘플 중 길이가 %s 이하인 샘플의 비율: %s'%(max_len, (cnt / len(nested_list))))"
   ]
  },
  {
   "cell_type": "code",
   "execution_count": 19,
   "id": "broad-criticism",
   "metadata": {},
   "outputs": [
    {
     "name": "stdout",
     "output_type": "stream",
     "text": [
      "전체 샘플 중 길이가 50 이하인 샘플의 비율: 0.9998576657177715\n",
      "전체 샘플 중 길이가 8 이하인 샘플의 비율: 0.2755693371289142\n"
     ]
    }
   ],
   "source": [
    "below_threshold_len(text_max_len, data['text'])\n",
    "below_threshold_len(headlines_max_len,  data['headlines'])"
   ]
  },
  {
   "cell_type": "code",
   "execution_count": 20,
   "id": "absent-humidity",
   "metadata": {},
   "outputs": [
    {
     "name": "stdout",
     "output_type": "stream",
     "text": [
      "전체 샘플수 : 27105\n"
     ]
    }
   ],
   "source": [
    "data = data[data['text'].apply(lambda x: len(x.split()) <= text_max_len)]\n",
    "data = data[data['headlines'].apply(lambda x: len(x.split()) <= headlines_max_len)]\n",
    "print('전체 샘플수 :', (len(data)))"
   ]
  },
  {
   "cell_type": "code",
   "execution_count": 21,
   "id": "aquatic-optimization",
   "metadata": {},
   "outputs": [
    {
     "data": {
      "text/html": [
       "<div>\n",
       "<style scoped>\n",
       "    .dataframe tbody tr th:only-of-type {\n",
       "        vertical-align: middle;\n",
       "    }\n",
       "\n",
       "    .dataframe tbody tr th {\n",
       "        vertical-align: top;\n",
       "    }\n",
       "\n",
       "    .dataframe thead th {\n",
       "        text-align: right;\n",
       "    }\n",
       "</style>\n",
       "<table border=\"1\" class=\"dataframe\">\n",
       "  <thead>\n",
       "    <tr style=\"text-align: right;\">\n",
       "      <th></th>\n",
       "      <th>headlines</th>\n",
       "      <th>text</th>\n",
       "      <th>decoder_input</th>\n",
       "      <th>decoder_target</th>\n",
       "    </tr>\n",
       "  </thead>\n",
       "  <tbody>\n",
       "    <tr>\n",
       "      <th>19</th>\n",
       "      <td>odisha cm patnaik controls mining mafia union ...</td>\n",
       "      <td>union minister dharmendra pradhan wednesday cl...</td>\n",
       "      <td>sostoken odisha cm patnaik controls mining maf...</td>\n",
       "      <td>odisha cm patnaik controls mining mafia union ...</td>\n",
       "    </tr>\n",
       "    <tr>\n",
       "      <th>21</th>\n",
       "      <td>isro unveils bengaluru centre for manned space...</td>\n",
       "      <td>indian space research organisation wednesday u...</td>\n",
       "      <td>sostoken isro unveils bengaluru centre for man...</td>\n",
       "      <td>isro unveils bengaluru centre for manned space...</td>\n",
       "    </tr>\n",
       "    <tr>\n",
       "      <th>22</th>\n",
       "      <td>killed injured in saudi arabia floods</td>\n",
       "      <td>least people killed others injured saudi arabi...</td>\n",
       "      <td>sostoken killed injured in saudi arabia floods</td>\n",
       "      <td>killed injured in saudi arabia floods eostoken</td>\n",
       "    </tr>\n",
       "    <tr>\n",
       "      <th>29</th>\n",
       "      <td>seat cushions from missing plane carrying foot...</td>\n",
       "      <td>investigators searching lost plane carrying ar...</td>\n",
       "      <td>sostoken seat cushions from missing plane carr...</td>\n",
       "      <td>seat cushions from missing plane carrying foot...</td>\n",
       "    </tr>\n",
       "    <tr>\n",
       "      <th>36</th>\n",
       "      <td>agustawestland scam accused rajiv saxena extra...</td>\n",
       "      <td>agustawestland chopper scam co accused rajiv s...</td>\n",
       "      <td>sostoken agustawestland scam accused rajiv sax...</td>\n",
       "      <td>agustawestland scam accused rajiv saxena extra...</td>\n",
       "    </tr>\n",
       "  </tbody>\n",
       "</table>\n",
       "</div>"
      ],
      "text/plain": [
       "                                            headlines  \\\n",
       "19  odisha cm patnaik controls mining mafia union ...   \n",
       "21  isro unveils bengaluru centre for manned space...   \n",
       "22              killed injured in saudi arabia floods   \n",
       "29  seat cushions from missing plane carrying foot...   \n",
       "36  agustawestland scam accused rajiv saxena extra...   \n",
       "\n",
       "                                                 text  \\\n",
       "19  union minister dharmendra pradhan wednesday cl...   \n",
       "21  indian space research organisation wednesday u...   \n",
       "22  least people killed others injured saudi arabi...   \n",
       "29  investigators searching lost plane carrying ar...   \n",
       "36  agustawestland chopper scam co accused rajiv s...   \n",
       "\n",
       "                                        decoder_input  \\\n",
       "19  sostoken odisha cm patnaik controls mining maf...   \n",
       "21  sostoken isro unveils bengaluru centre for man...   \n",
       "22     sostoken killed injured in saudi arabia floods   \n",
       "29  sostoken seat cushions from missing plane carr...   \n",
       "36  sostoken agustawestland scam accused rajiv sax...   \n",
       "\n",
       "                                       decoder_target  \n",
       "19  odisha cm patnaik controls mining mafia union ...  \n",
       "21  isro unveils bengaluru centre for manned space...  \n",
       "22     killed injured in saudi arabia floods eostoken  \n",
       "29  seat cushions from missing plane carrying foot...  \n",
       "36  agustawestland scam accused rajiv saxena extra...  "
      ]
     },
     "execution_count": 21,
     "metadata": {},
     "output_type": "execute_result"
    }
   ],
   "source": [
    "# 요약 데이터에는 시작 토큰과 종료 토큰을 추가한다.\n",
    "data['decoder_input'] = data['headlines'].apply(lambda x : 'sostoken '+ x)\n",
    "data['decoder_target'] = data['headlines'].apply(lambda x : x + ' eostoken')\n",
    "data.head()"
   ]
  },
  {
   "cell_type": "code",
   "execution_count": 22,
   "id": "favorite-leader",
   "metadata": {},
   "outputs": [],
   "source": [
    "encoder_input = np.array(data['text']) # 인코더의 입력\n",
    "decoder_input = np.array(data['decoder_input']) # 디코더의 입력\n",
    "decoder_target = np.array(data['decoder_target']) # 디코더의 레이블"
   ]
  },
  {
   "cell_type": "code",
   "execution_count": 23,
   "id": "specific-cookbook",
   "metadata": {},
   "outputs": [
    {
     "name": "stdout",
     "output_type": "stream",
     "text": [
      "[18322 17140 11256 ... 21691  3154 19454]\n"
     ]
    }
   ],
   "source": [
    "indices = np.arange(encoder_input.shape[0])\n",
    "np.random.shuffle(indices)\n",
    "print(indices)"
   ]
  },
  {
   "cell_type": "code",
   "execution_count": 24,
   "id": "unusual-repair",
   "metadata": {},
   "outputs": [],
   "source": [
    "encoder_input = encoder_input[indices]\n",
    "decoder_input = decoder_input[indices]\n",
    "decoder_target = decoder_target[indices]"
   ]
  },
  {
   "cell_type": "code",
   "execution_count": 25,
   "id": "concerned-wildlife",
   "metadata": {},
   "outputs": [
    {
     "name": "stdout",
     "output_type": "stream",
     "text": [
      "테스트 데이터의 수 : 5421\n"
     ]
    }
   ],
   "source": [
    "n_of_val = int(len(encoder_input)*0.2)\n",
    "print('테스트 데이터의 수 :', n_of_val)"
   ]
  },
  {
   "cell_type": "code",
   "execution_count": 26,
   "id": "apart-statistics",
   "metadata": {},
   "outputs": [
    {
     "name": "stdout",
     "output_type": "stream",
     "text": [
      "훈련 데이터의 개수 : 21684\n",
      "훈련 레이블의 개수 : 21684\n",
      "테스트 데이터의 개수 : 5421\n",
      "테스트 레이블의 개수 : 5421\n"
     ]
    }
   ],
   "source": [
    "encoder_input_train = encoder_input[:-n_of_val]\n",
    "decoder_input_train = decoder_input[:-n_of_val]\n",
    "decoder_target_train = decoder_target[:-n_of_val]\n",
    "\n",
    "encoder_input_test = encoder_input[-n_of_val:]\n",
    "decoder_input_test = decoder_input[-n_of_val:]\n",
    "decoder_target_test = decoder_target[-n_of_val:]\n",
    "\n",
    "print('훈련 데이터의 개수 :', len(encoder_input_train))\n",
    "print('훈련 레이블의 개수 :', len(decoder_input_train))\n",
    "print('테스트 데이터의 개수 :', len(encoder_input_test))\n",
    "print('테스트 레이블의 개수 :', len(decoder_input_test))"
   ]
  },
  {
   "cell_type": "markdown",
   "id": "featured-release",
   "metadata": {},
   "source": [
    "정수인코딩"
   ]
  },
  {
   "cell_type": "code",
   "execution_count": 27,
   "id": "stupid-progress",
   "metadata": {},
   "outputs": [],
   "source": [
    "src_tokenizer = Tokenizer() # 토크나이저 정의\n",
    "src_tokenizer.fit_on_texts(encoder_input_train) # 입력된 데이터로부터 단어 집합 생성"
   ]
  },
  {
   "cell_type": "code",
   "execution_count": 28,
   "id": "silent-webcam",
   "metadata": {},
   "outputs": [
    {
     "name": "stdout",
     "output_type": "stream",
     "text": [
      "단어 집합(vocabulary)의 크기 : 42472\n",
      "등장 빈도가 6번 이하인 희귀 단어의 수: 30716\n",
      "단어 집합에서 희귀 단어를 제외시킬 경우의 단어 집합의 크기 11756\n",
      "단어 집합에서 희귀 단어의 비율: 72.3205876812959\n",
      "전체 등장 빈도에서 희귀 단어 등장 빈도 비율: 8.274668721352517\n"
     ]
    }
   ],
   "source": [
    "threshold = 7\n",
    "total_cnt = len(src_tokenizer.word_index) # 단어의 수\n",
    "rare_cnt = 0 # 등장 빈도수가 threshold보다 작은 단어의 개수를 카운트\n",
    "total_freq = 0 # 훈련 데이터의 전체 단어 빈도수 총 합\n",
    "rare_freq = 0 # 등장 빈도수가 threshold보다 작은 단어의 등장 빈도수의 총 합\n",
    "\n",
    "# 단어와 빈도수의 쌍(pair)을 key와 value로 받는다.\n",
    "for key, value in src_tokenizer.word_counts.items():\n",
    "    total_freq = total_freq + value\n",
    "\n",
    "    # 단어의 등장 빈도수가 threshold보다 작으면\n",
    "    if(value < threshold):\n",
    "        rare_cnt = rare_cnt + 1\n",
    "        rare_freq = rare_freq + value\n",
    "\n",
    "print('단어 집합(vocabulary)의 크기 :', total_cnt)\n",
    "print('등장 빈도가 %s번 이하인 희귀 단어의 수: %s'%(threshold - 1, rare_cnt))\n",
    "print('단어 집합에서 희귀 단어를 제외시킬 경우의 단어 집합의 크기 %s'%(total_cnt - rare_cnt))\n",
    "print(\"단어 집합에서 희귀 단어의 비율:\", (rare_cnt / total_cnt)*100)\n",
    "print(\"전체 등장 빈도에서 희귀 단어 등장 빈도 비율:\", (rare_freq / total_freq)*100)"
   ]
  },
  {
   "cell_type": "code",
   "execution_count": 29,
   "id": "swedish-little",
   "metadata": {},
   "outputs": [],
   "source": [
    "src_vocab = 8000\n",
    "src_tokenizer = Tokenizer(num_words=src_vocab) # 단어 집합의 크기를 8,000으로 제한\n",
    "src_tokenizer.fit_on_texts(encoder_input_train) # 단어 집합 재생성."
   ]
  },
  {
   "cell_type": "code",
   "execution_count": 30,
   "id": "following-separate",
   "metadata": {},
   "outputs": [
    {
     "name": "stdout",
     "output_type": "stream",
     "text": [
      "[[29, 2171, 181, 6496, 4616, 2172, 1292, 35, 293, 29, 256, 979, 43, 82, 6496, 4616, 4262, 37, 1427, 1292, 779, 945, 96, 251, 85, 960, 2506, 543, 153, 5186, 9, 1], [3, 1571, 5036, 21, 113, 16, 6257, 1497, 1, 53, 165, 1428, 7053, 607, 2296, 298, 324, 3539, 1497, 2548, 1239, 298, 603, 2, 1, 1661, 113, 2297, 7409, 1138, 2298, 326, 578, 30], [299, 15, 1313, 7, 1166, 2074, 753, 7, 1166, 517, 152, 455, 653, 1167, 517, 14, 1529, 1681, 43, 553, 1212, 49, 2398, 226, 1, 455, 705, 517, 4493]]\n"
     ]
    }
   ],
   "source": [
    "# 텍스트 시퀀스를 정수 시퀀스로 변환\n",
    "encoder_input_train = src_tokenizer.texts_to_sequences(encoder_input_train) \n",
    "encoder_input_test = src_tokenizer.texts_to_sequences(encoder_input_test)\n",
    "\n",
    "# 잘 진행되었는지 샘플 출력\n",
    "print(encoder_input_train[:3])"
   ]
  },
  {
   "cell_type": "code",
   "execution_count": 31,
   "id": "pleased-perth",
   "metadata": {},
   "outputs": [],
   "source": [
    "tar_tokenizer = Tokenizer()\n",
    "tar_tokenizer.fit_on_texts(decoder_input_train)"
   ]
  },
  {
   "cell_type": "code",
   "execution_count": 32,
   "id": "provincial-return",
   "metadata": {},
   "outputs": [
    {
     "name": "stdout",
     "output_type": "stream",
     "text": [
      "단어 집합(vocabulary)의 크기 : 18893\n",
      "등장 빈도가 5번 이하인 희귀 단어의 수: 14248\n",
      "단어 집합에서 희귀 단어를 제외시킬 경우의 단어 집합의 크기 4645\n",
      "단어 집합에서 희귀 단어의 비율: 75.41417456200709\n",
      "전체 등장 빈도에서 희귀 단어 등장 빈도 비율: 14.158651138088826\n"
     ]
    }
   ],
   "source": [
    "threshold = 6\n",
    "total_cnt = len(tar_tokenizer.word_index) # 단어의 수\n",
    "rare_cnt = 0 # 등장 빈도수가 threshold보다 작은 단어의 개수를 카운트\n",
    "total_freq = 0 # 훈련 데이터의 전체 단어 빈도수 총 합\n",
    "rare_freq = 0 # 등장 빈도수가 threshold보다 작은 단어의 등장 빈도수의 총 합\n",
    "\n",
    "# 단어와 빈도수의 쌍(pair)을 key와 value로 받는다.\n",
    "for key, value in tar_tokenizer.word_counts.items():\n",
    "    total_freq = total_freq + value\n",
    "\n",
    "    # 단어의 등장 빈도수가 threshold보다 작으면\n",
    "    if(value < threshold):\n",
    "        rare_cnt = rare_cnt + 1\n",
    "        rare_freq = rare_freq + value\n",
    "\n",
    "print('단어 집합(vocabulary)의 크기 :', total_cnt)\n",
    "print('등장 빈도가 %s번 이하인 희귀 단어의 수: %s'%(threshold - 1, rare_cnt))\n",
    "print('단어 집합에서 희귀 단어를 제외시킬 경우의 단어 집합의 크기 %s'%(total_cnt - rare_cnt))\n",
    "print(\"단어 집합에서 희귀 단어의 비율:\", (rare_cnt / total_cnt)*100)\n",
    "print(\"전체 등장 빈도에서 희귀 단어 등장 빈도 비율:\", (rare_freq / total_freq)*100)"
   ]
  },
  {
   "cell_type": "code",
   "execution_count": 33,
   "id": "studied-satin",
   "metadata": {},
   "outputs": [
    {
     "name": "stdout",
     "output_type": "stream",
     "text": [
      "input\n",
      "input  [[1, 987, 371, 3, 25], [1, 8, 17, 115, 66], [1, 857, 227, 1211, 6, 666, 667, 37], [1, 1106, 149, 768, 4, 228, 157], [1, 8, 491, 46, 283, 1058, 567]]\n",
      "target\n",
      "decoder  [[987, 371, 3, 25, 2], [8, 17, 115, 66, 2], [857, 227, 1211, 6, 666, 667, 37, 2], [1106, 149, 768, 4, 228, 157, 2], [8, 491, 46, 283, 1058, 567, 2]]\n"
     ]
    }
   ],
   "source": [
    "tar_vocab = 2000\n",
    "tar_tokenizer = Tokenizer(num_words=tar_vocab) \n",
    "tar_tokenizer.fit_on_texts(decoder_input_train)\n",
    "tar_tokenizer.fit_on_texts(decoder_target_train)\n",
    "\n",
    "# 텍스트 시퀀스를 정수 시퀀스로 변환\n",
    "decoder_input_train = tar_tokenizer.texts_to_sequences(decoder_input_train) \n",
    "decoder_target_train = tar_tokenizer.texts_to_sequences(decoder_target_train)\n",
    "decoder_input_test = tar_tokenizer.texts_to_sequences(decoder_input_test)\n",
    "decoder_target_test = tar_tokenizer.texts_to_sequences(decoder_target_test)\n",
    "\n",
    "# 잘 변환되었는지 확인\n",
    "print('input')\n",
    "print('input ',decoder_input_train[:5])\n",
    "print('target')\n",
    "print('decoder ',decoder_target_train[:5])"
   ]
  },
  {
   "cell_type": "code",
   "execution_count": 34,
   "id": "sufficient-entity",
   "metadata": {},
   "outputs": [
    {
     "name": "stdout",
     "output_type": "stream",
     "text": [
      "삭제할 훈련 데이터의 개수 : 10\n",
      "삭제할 테스트 데이터의 개수 : 2\n",
      "훈련 데이터의 개수 : 21674\n",
      "훈련 레이블의 개수 : 21674\n",
      "테스트 데이터의 개수 : 5419\n",
      "테스트 레이블의 개수 : 5419\n"
     ]
    },
    {
     "name": "stderr",
     "output_type": "stream",
     "text": [
      "/opt/conda/lib/python3.7/site-packages/numpy/core/_asarray.py:83: VisibleDeprecationWarning: Creating an ndarray from ragged nested sequences (which is a list-or-tuple of lists-or-tuples-or ndarrays with different lengths or shapes) is deprecated. If you meant to do this, you must specify 'dtype=object' when creating the ndarray\n",
      "  return array(a, dtype, copy=False, order=order)\n"
     ]
    }
   ],
   "source": [
    "drop_train = [index for index, sentence in enumerate(decoder_input_train) if len(sentence) == 1]\n",
    "drop_test = [index for index, sentence in enumerate(decoder_input_test) if len(sentence) == 1]\n",
    "\n",
    "print('삭제할 훈련 데이터의 개수 :', len(drop_train))\n",
    "print('삭제할 테스트 데이터의 개수 :', len(drop_test))\n",
    "\n",
    "encoder_input_train = np.delete(encoder_input_train, drop_train, axis=0)\n",
    "decoder_input_train = np.delete(decoder_input_train, drop_train, axis=0)\n",
    "decoder_target_train = np.delete(decoder_target_train, drop_train, axis=0)\n",
    "\n",
    "encoder_input_test = np.delete(encoder_input_test, drop_test, axis=0)\n",
    "decoder_input_test = np.delete(decoder_input_test, drop_test, axis=0)\n",
    "decoder_target_test = np.delete(decoder_target_test, drop_test, axis=0)\n",
    "\n",
    "print('훈련 데이터의 개수 :', len(encoder_input_train))\n",
    "print('훈련 레이블의 개수 :', len(decoder_input_train))\n",
    "print('테스트 데이터의 개수 :', len(encoder_input_test))\n",
    "print('테스트 레이블의 개수 :', len(decoder_input_test))"
   ]
  },
  {
   "cell_type": "code",
   "execution_count": 35,
   "id": "thirty-crazy",
   "metadata": {},
   "outputs": [],
   "source": [
    "encoder_input_train = pad_sequences(encoder_input_train, maxlen=text_max_len, padding='post')\n",
    "encoder_input_test = pad_sequences(encoder_input_test, maxlen=text_max_len, padding='post')\n",
    "decoder_input_train = pad_sequences(decoder_input_train, maxlen=headlines_max_len, padding='post')\n",
    "decoder_target_train = pad_sequences(decoder_target_train, maxlen=headlines_max_len, padding='post')\n",
    "decoder_input_test = pad_sequences(decoder_input_test, maxlen=headlines_max_len, padding='post')\n",
    "decoder_target_test = pad_sequences(decoder_target_test, maxlen=headlines_max_len, padding='post')"
   ]
  },
  {
   "cell_type": "code",
   "execution_count": 36,
   "id": "noted-rental",
   "metadata": {},
   "outputs": [
    {
     "name": "stdout",
     "output_type": "stream",
     "text": [
      "WARNING:tensorflow:Layer lstm will not use cuDNN kernel since it doesn't meet the cuDNN kernel criteria. It will use generic GPU kernel as fallback when running on GPU\n",
      "WARNING:tensorflow:Layer lstm_1 will not use cuDNN kernel since it doesn't meet the cuDNN kernel criteria. It will use generic GPU kernel as fallback when running on GPU\n",
      "WARNING:tensorflow:Layer lstm_2 will not use cuDNN kernel since it doesn't meet the cuDNN kernel criteria. It will use generic GPU kernel as fallback when running on GPU\n"
     ]
    }
   ],
   "source": [
    "from tensorflow.keras.layers import Input, LSTM, Embedding, Dense, Concatenate\n",
    "from tensorflow.keras.models import Model\n",
    "from tensorflow.keras.callbacks import EarlyStopping, ModelCheckpoint\n",
    "\n",
    "\n",
    "# 인코더 설계 시작\n",
    "embedding_dim = 128\n",
    "hidden_size = 256\n",
    "\n",
    "# 인코더\n",
    "encoder_inputs = Input(shape=(text_max_len,))\n",
    "\n",
    "# 인코더의 임베딩 층\n",
    "enc_emb = Embedding(src_vocab, embedding_dim)(encoder_inputs)\n",
    "\n",
    "# 인코더의 LSTM 1\n",
    "encoder_lstm1 = LSTM(hidden_size, return_sequences=True, return_state=True ,dropout = 0.4, recurrent_dropout = 0.4)\n",
    "encoder_output1, state_h1, state_c1 = encoder_lstm1(enc_emb)\n",
    "\n",
    "# 인코더의 LSTM 2\n",
    "encoder_lstm2 = LSTM(hidden_size, return_sequences=True, return_state=True, dropout=0.4, recurrent_dropout=0.4)\n",
    "encoder_output2, state_h2, state_c2 = encoder_lstm2(encoder_output1)\n",
    "\n",
    "# 인코더의 LSTM 3\n",
    "encoder_lstm3 = LSTM(hidden_size, return_state=True, return_sequences=True, dropout=0.4, recurrent_dropout=0.4)\n",
    "encoder_outputs, state_h, state_c= encoder_lstm3(encoder_output2)"
   ]
  },
  {
   "cell_type": "code",
   "execution_count": 37,
   "id": "manufactured-helena",
   "metadata": {},
   "outputs": [
    {
     "name": "stdout",
     "output_type": "stream",
     "text": [
      "WARNING:tensorflow:Layer lstm_3 will not use cuDNN kernel since it doesn't meet the cuDNN kernel criteria. It will use generic GPU kernel as fallback when running on GPU\n"
     ]
    }
   ],
   "source": [
    "# 디코더 설계\n",
    "decoder_inputs = Input(shape=(None,))\n",
    "\n",
    "# 디코더의 임베딩 층\n",
    "dec_emb_layer = Embedding(tar_vocab, embedding_dim)\n",
    "dec_emb = dec_emb_layer(decoder_inputs)\n",
    "\n",
    "# 디코더의 LSTM\n",
    "decoder_lstm = LSTM(hidden_size, return_sequences=True, return_state=True, dropout=0.4, recurrent_dropout=0.2)\n",
    "decoder_outputs, _, _ = decoder_lstm(dec_emb, initial_state=[state_h, state_c])"
   ]
  },
  {
   "cell_type": "code",
   "execution_count": 40,
   "id": "advanced-vampire",
   "metadata": {},
   "outputs": [
    {
     "name": "stdout",
     "output_type": "stream",
     "text": [
      "Model: \"model_2\"\n",
      "__________________________________________________________________________________________________\n",
      "Layer (type)                    Output Shape         Param #     Connected to                     \n",
      "==================================================================================================\n",
      "input_1 (InputLayer)            [(None, 50)]         0                                            \n",
      "__________________________________________________________________________________________________\n",
      "embedding (Embedding)           (None, 50, 128)      1024000     input_1[0][0]                    \n",
      "__________________________________________________________________________________________________\n",
      "lstm (LSTM)                     [(None, 50, 256), (N 394240      embedding[0][0]                  \n",
      "__________________________________________________________________________________________________\n",
      "input_2 (InputLayer)            [(None, None)]       0                                            \n",
      "__________________________________________________________________________________________________\n",
      "lstm_1 (LSTM)                   [(None, 50, 256), (N 525312      lstm[0][0]                       \n",
      "__________________________________________________________________________________________________\n",
      "embedding_1 (Embedding)         (None, None, 128)    256000      input_2[0][0]                    \n",
      "__________________________________________________________________________________________________\n",
      "lstm_2 (LSTM)                   [(None, 50, 256), (N 525312      lstm_1[0][0]                     \n",
      "__________________________________________________________________________________________________\n",
      "lstm_3 (LSTM)                   [(None, None, 256),  394240      embedding_1[0][0]                \n",
      "                                                                 lstm_2[0][1]                     \n",
      "                                                                 lstm_2[0][2]                     \n",
      "__________________________________________________________________________________________________\n",
      "dense_2 (Dense)                 (None, None, 2000)   514000      lstm_3[0][0]                     \n",
      "==================================================================================================\n",
      "Total params: 3,633,104\n",
      "Trainable params: 3,633,104\n",
      "Non-trainable params: 0\n",
      "__________________________________________________________________________________________________\n"
     ]
    }
   ],
   "source": [
    "# 디코더의 출력층\n",
    "decoder_softmax_layer = Dense(tar_vocab, activation='softmax')\n",
    "decoder_softmax_outputs = decoder_softmax_layer(decoder_outputs) \n",
    "\n",
    "# 모델 정의\n",
    "model = Model([encoder_inputs, decoder_inputs], decoder_softmax_outputs)\n",
    "model.summary()"
   ]
  },
  {
   "cell_type": "code",
   "execution_count": 45,
   "id": "beneficial-bracelet",
   "metadata": {},
   "outputs": [
    {
     "name": "stdout",
     "output_type": "stream",
     "text": [
      "Epoch 1/50\n",
      "85/85 [==============================] - 70s 682ms/step - loss: 5.0038 - val_loss: 4.2759\n",
      "Epoch 2/50\n",
      "85/85 [==============================] - 57s 673ms/step - loss: 4.2707 - val_loss: 4.1356\n",
      "Epoch 3/50\n",
      "85/85 [==============================] - 57s 667ms/step - loss: 4.1178 - val_loss: 4.0120\n",
      "Epoch 4/50\n",
      "85/85 [==============================] - 56s 661ms/step - loss: 3.9652 - val_loss: 3.9144\n",
      "Epoch 5/50\n",
      "85/85 [==============================] - 56s 662ms/step - loss: 3.8432 - val_loss: 3.8126\n",
      "Epoch 6/50\n",
      "85/85 [==============================] - 56s 661ms/step - loss: 3.6916 - val_loss: 3.7253\n",
      "Epoch 7/50\n",
      "85/85 [==============================] - 56s 663ms/step - loss: 3.5689 - val_loss: 3.6413\n",
      "Epoch 8/50\n",
      "85/85 [==============================] - 56s 662ms/step - loss: 3.4545 - val_loss: 3.5834\n",
      "Epoch 9/50\n",
      "85/85 [==============================] - 56s 661ms/step - loss: 3.3528 - val_loss: 3.5326\n",
      "Epoch 10/50\n",
      "85/85 [==============================] - 56s 661ms/step - loss: 3.2586 - val_loss: 3.4887\n",
      "Epoch 11/50\n",
      "85/85 [==============================] - 56s 663ms/step - loss: 3.1701 - val_loss: 3.4608\n",
      "Epoch 12/50\n",
      "85/85 [==============================] - 56s 659ms/step - loss: 3.0953 - val_loss: 3.4323\n",
      "Epoch 13/50\n",
      "85/85 [==============================] - 55s 652ms/step - loss: 3.0141 - val_loss: 3.4142\n",
      "Epoch 14/50\n",
      "85/85 [==============================] - 55s 650ms/step - loss: 2.9427 - val_loss: 3.3994\n",
      "Epoch 15/50\n",
      "85/85 [==============================] - 55s 644ms/step - loss: 2.8918 - val_loss: 3.3744\n",
      "Epoch 16/50\n",
      "85/85 [==============================] - 55s 643ms/step - loss: 2.8245 - val_loss: 3.3628\n",
      "Epoch 17/50\n",
      "85/85 [==============================] - 55s 643ms/step - loss: 2.7548 - val_loss: 3.3520\n",
      "Epoch 18/50\n",
      "85/85 [==============================] - 55s 643ms/step - loss: 2.7058 - val_loss: 3.3491\n",
      "Epoch 19/50\n",
      "85/85 [==============================] - 54s 641ms/step - loss: 2.6452 - val_loss: 3.3439\n",
      "Epoch 20/50\n",
      "85/85 [==============================] - 55s 644ms/step - loss: 2.5875 - val_loss: 3.3398\n",
      "Epoch 21/50\n",
      "85/85 [==============================] - 54s 642ms/step - loss: 2.5381 - val_loss: 3.3372\n",
      "Epoch 22/50\n",
      "85/85 [==============================] - 55s 643ms/step - loss: 2.4840 - val_loss: 3.3334\n",
      "Epoch 23/50\n",
      "85/85 [==============================] - 54s 640ms/step - loss: 2.4254 - val_loss: 3.3325\n",
      "Epoch 24/50\n",
      "85/85 [==============================] - 55s 644ms/step - loss: 2.3845 - val_loss: 3.3347\n",
      "Epoch 25/50\n",
      "85/85 [==============================] - 55s 643ms/step - loss: 2.3410 - val_loss: 3.3424\n",
      "Epoch 00025: early stopping\n"
     ]
    }
   ],
   "source": [
    "model.compile(optimizer='rmsprop', loss='sparse_categorical_crossentropy')\n",
    "es = EarlyStopping(monitor='val_loss', patience=2, verbose=1)\n",
    "history = model.fit(x=[encoder_input_train, decoder_input_train], y=decoder_target_train, \\\n",
    "          validation_data=([encoder_input_test, decoder_input_test], decoder_target_test), \\\n",
    "          batch_size=256, callbacks=[es], epochs=50)"
   ]
  },
  {
   "cell_type": "code",
   "execution_count": 46,
   "id": "engaging-remains",
   "metadata": {},
   "outputs": [
    {
     "data": {
      "image/png": "[encoded data removed]",
      "text/plain": [
       "<Figure size 432x288 with 1 Axes>"
      ]
     },
     "metadata": {
      "needs_background": "light"
     },
     "output_type": "display_data"
    }
   ],
   "source": [
    "plt.plot(history.history['loss'], label='train')\n",
    "plt.plot(history.history['val_loss'], label='test')\n",
    "plt.legend()\n",
    "plt.show()"
   ]
  },
  {
   "cell_type": "code",
   "execution_count": 47,
   "id": "living-laptop",
   "metadata": {},
   "outputs": [],
   "source": [
    "src_index_to_word = src_tokenizer.index_word # 원문 단어 집합에서 정수 -> 단어를 얻음\n",
    "tar_word_to_index = tar_tokenizer.word_index # 요약 단어 집합에서 단어 -> 정수를 얻음\n",
    "tar_index_to_word = tar_tokenizer.index_word # 요약 단어 집합에서 정수 -> 단어를 얻음"
   ]
  },
  {
   "cell_type": "code",
   "execution_count": 48,
   "id": "disabled-dinner",
   "metadata": {},
   "outputs": [],
   "source": [
    "# 인코더 설계\n",
    "encoder_model = Model(inputs=encoder_inputs, outputs=[encoder_outputs, state_h, state_c])\n",
    "\n",
    "# 이전 시점의 상태들을 저장하는 텐서\n",
    "decoder_state_input_h = Input(shape=(hidden_size,))\n",
    "decoder_state_input_c = Input(shape=(hidden_size,))\n",
    "\n",
    "dec_emb2 = dec_emb_layer(decoder_inputs)\n",
    "\n",
    "# 문장의 다음 단어를 예측하기 위해서 초기 상태(initial_state)를 이전 시점의 상태로 사용. 이는 뒤의 함수 decode_sequence()에 구현\n",
    "# 훈련 과정에서와 달리 LSTM의 리턴하는 은닉 상태와 셀 상태인 state_h와 state_c를 버리지 않음.\n",
    "decoder_outputs2, state_h2, state_c2 = decoder_lstm(dec_emb2, initial_state=[decoder_state_input_h, decoder_state_input_c])"
   ]
  },
  {
   "cell_type": "code",
   "execution_count": 49,
   "id": "confused-converter",
   "metadata": {},
   "outputs": [],
   "source": [
    "# 어텐션 함수\n",
    "decoder_hidden_state_input = Input(shape=(text_max_len, hidden_size))\n",
    "attn_out_inf, attn_states_inf = attn_layer([decoder_hidden_state_input, decoder_outputs2])\n",
    "decoder_inf_concat = Concatenate(axis=-1, name='concat')([decoder_outputs2, attn_out_inf])\n",
    "\n",
    "# 디코더의 출력층\n",
    "decoder_outputs2 = decoder_softmax_layer(decoder_inf_concat) \n",
    "\n",
    "# 최종 디코더 모델\n",
    "decoder_model = Model(\n",
    "    [decoder_inputs] + [decoder_hidden_state_input,decoder_state_input_h, decoder_state_input_c],\n",
    "    [decoder_outputs2] + [state_h2, state_c2])"
   ]
  },
  {
   "cell_type": "code",
   "execution_count": 50,
   "id": "mighty-albuquerque",
   "metadata": {},
   "outputs": [],
   "source": [
    "def decode_sequence(input_seq):\n",
    "    # 입력으로부터 인코더의 상태를 얻음\n",
    "    e_out, e_h, e_c = encoder_model.predict(input_seq)\n",
    "\n",
    "     # <SOS>에 해당하는 토큰 생성\n",
    "    target_seq = np.zeros((1,1))\n",
    "    target_seq[0, 0] = tar_word_to_index['sostoken']\n",
    "\n",
    "    stop_condition = False\n",
    "    decoded_sentence = ''\n",
    "    while not stop_condition: # stop_condition이 True가 될 때까지 루프 반복\n",
    "\n",
    "        output_tokens, h, c = decoder_model.predict([target_seq] + [e_out, e_h, e_c])\n",
    "        sampled_token_index = np.argmax(output_tokens[0, -1, :])\n",
    "        sampled_token = tar_index_to_word[sampled_token_index]\n",
    "\n",
    "        if (sampled_token!='eostoken'):\n",
    "            decoded_sentence += ' '+sampled_token\n",
    "\n",
    "        #  <eos>에 도달하거나 최대 길이를 넘으면 중단.\n",
    "        if (sampled_token == 'eostoken'  or len(decoded_sentence.split()) >= (headlines_max_len-1)):\n",
    "            stop_condition = True\n",
    "\n",
    "        # 길이가 1인 타겟 시퀀스를 업데이트\n",
    "        target_seq = np.zeros((1,1))\n",
    "        target_seq[0, 0] = sampled_token_index\n",
    "\n",
    "        # 상태를 업데이트 합니다.\n",
    "        e_h, e_c = h, c\n",
    "\n",
    "    return decoded_sentence"
   ]
  },
  {
   "cell_type": "markdown",
   "id": "thrown-speed",
   "metadata": {},
   "source": [
    "4. 실제결과와 요약문 비교하기(추상적요약)"
   ]
  },
  {
   "cell_type": "code",
   "execution_count": 51,
   "id": "finished-legend",
   "metadata": {},
   "outputs": [],
   "source": [
    "# 원문의 정수 시퀀스를 텍스트 시퀀스로 변환\n",
    "def seq2text(input_seq):\n",
    "    temp=''\n",
    "    for i in input_seq:\n",
    "        if (i!=0):\n",
    "            temp = temp + src_index_to_word[i]+' '\n",
    "    return temp\n",
    "\n",
    "# 요약문의 정수 시퀀스를 텍스트 시퀀스로 변환\n",
    "def seq2headlines(input_seq):\n",
    "    temp=''\n",
    "    for i in input_seq:\n",
    "        if ((i!=0 and i!=tar_word_to_index['sostoken']) and i!=tar_word_to_index['eostoken']):\n",
    "            temp = temp + tar_index_to_word[i] + ' '\n",
    "    return temp"
   ]
  },
  {
   "cell_type": "code",
   "execution_count": 52,
   "id": "metropolitan-equation",
   "metadata": {},
   "outputs": [
    {
     "name": "stdout",
     "output_type": "stream",
     "text": [
      "원문 : pm wednesday said suspended resignation request president michel allow dialogue political situation refused accept resignation pm saudi arabia accused saudi arabia detained resigned citing danger life \n",
      "실제 요약 : pm his resignation on hold \n",
      "예측 요약 :  prez approves presidential election\n",
      "\n",
      "\n",
      "원문 : australian cricketer david warner dropped brand ambassador south korean electronics company lg ball tampering scandal warner become brand ambassador company current deal final weeks earlier today warner handed one year ban cricket australia \n",
      "실제 요약 : warner loses over ball \n",
      "예측 요약 :  appointed new of\n",
      "\n",
      "\n",
      "원문 : five time olympic gold medallist friday contested pro swim meet six months pregnant second child year old finished th completing race seconds compared seconds last year finished second \n",
      "실제 요약 : olympic champion while months pregnant \n",
      "예측 요약 :  olympic champion\n",
      "\n",
      "\n",
      "원문 : becoming oldest world number one tennis history swiss tennis player roger federer said deep sense year winning three took get ranking year old first became world number one went stay position weeks \n",
      "실제 요약 : on number one roger federer \n",
      "예측 요약 :  federer has record of tennis\n",
      "\n",
      "\n",
      "원문 : according research amazon india currently worth billion amount walmart investing flipkart exchange stake company report claims amazon market share local flipkart also expected reach billion revenue \n",
      "실제 요약 : amazon india worth walmart bn investment in flipkart \n",
      "예측 요약 :  amazon acquires stake in india\n",
      "\n",
      "\n",
      "원문 : speaking berkshire hathaway annual meeting saturday billionaire chairman warren buffett called gold cryptocurrencies like bitcoin non assets buffett said value cryptocurrencies someone buy even money cryptocurrencies draw lot people less character added \n",
      "실제 요약 : buffett calls gold cryptocurrencies non assets \n",
      "예측 요약 :  jio jio jio billionaire billionaire\n",
      "\n",
      "\n",
      "원문 : canada become second country legalise possession use cannabis grow four plants home carry cannabis personal use cannabis possession first became crime canada medical use legal since \n",
      "실제 요약 : canada becomes nd country to \n",
      "예측 요약 :  airline opens yoga at\n",
      "\n",
      "\n",
      "원문 : british government wednesday delivered formal notification country intention leave european union eu president donald years membership comes uk citizens voted leave eu referendum june uk pm theresa may delivered statement parliament confirming brexit process begun \n",
      "실제 요약 : starts of brexit \n",
      "예측 요약 :  to brexit to brexit\n",
      "\n",
      "\n",
      "원문 : india sports minister vijay goel approved appointment two foreign coaches athletics thursday goel said ministry committed providing best possible help sports infrastructure equipment athletes training preparation participation international appointments include race walking metre coach \n",
      "실제 요약 : sports ministry appoints two foreign in \n",
      "예측 요약 :  appointed sports minister\n",
      "\n",
      "\n",
      "원문 : video surfaced online wherein rashtriya bajrang dal leader sanjay seen holding cheque lakh announcing reward anyone punjab minister singh sidhu slammed sidhu indian soldiers visiting pakistan attend pm imran khan ceremony country army chief \n",
      "실제 요약 : announces lakh for \n",
      "예측 요약 :  bjp leader calls bjp\n",
      "\n",
      "\n",
      "원문 : china deployed class conventional diesel electric submarine indian ocean region seventh submarine deployed region according indian navy chinese region appeared moreover also spy ship deployed electronic signals returned beijing analysis \n",
      "실제 요약 : china in indian amid \n",
      "예측 요약 :  over india first aircraft in\n",
      "\n",
      "\n",
      "원문 : kolkata based cafe chain startup break raised crore incubator venture exchange stake startup confirmed break valued crore first round external funding according reports launched aditya break outlets kolkata bhubaneswar \n",
      "실제 요약 : chain startup raises crore \n",
      "예측 요약 :  delhi based startup raises crore\n",
      "\n",
      "\n",
      "원문 : actor kamal haasan took twitter reveal escaped fire broke house chennai short circuit believed cause fire haasan clarified one hurt accident also thanked fans love concern \n",
      "실제 요약 : kamal haasan fire at his house \n",
      "예측 요약 :  tv actor passes away at\n",
      "\n",
      "\n",
      "원문 : association representing members indian administrative service said officers adopt families security personnel lost lives maoist anti terror operations law order duties approach families within area posting act help get dues including jobs \n",
      "실제 요약 : ias officers to martyred security personnel families \n",
      "예측 요약 :  former govt chief chief\n",
      "\n",
      "\n",
      "원문 : part indian army surgical strikes last september said strikes another operation special forces large scale operation wherein strength damage caused much added notably india carried strikes seven terror bases \n",
      "실제 요약 : surgical strikes just another operation special \n",
      "예측 요약 :  pakistan army to army\n",
      "\n",
      "\n",
      "원문 : land drought cost india gross domestic product according study commissioned environment ministry pointing globally lose hectares minute drought environment minister harsh said million tonne loss potential production year \n",
      "실제 요약 : land cost india of study \n",
      "예측 요약 :  to shut by\n",
      "\n",
      "\n",
      "원문 : slamming bjp criticising letter sent karnataka police withdrawal cases minorities state home minister reddy saturday said bjp understand english properly comes bjp said letter police send opinion withdrawal cases minorities muslims \n",
      "실제 요약 : bjp does not english karnataka minister \n",
      "예측 요약 :  bjp demands for bjp\n",
      "\n",
      "\n",
      "원문 : stating house order lok sabha speaker mahajan friday refused consider confidence motion moved bjp led nda government congress lok sabha requested speaker consider motion monday moved andhra pradesh demand special status \n",
      "실제 요약 : lok sabha no motion not \n",
      "예측 요약 :  congress is congress\n",
      "\n",
      "\n",
      "원문 : india granted financial assistance worth crore develop sri lanka commercial port move aimed strengthening sri lanka efforts become regional maritime hub indian high commission said statement destroyed sri lanka civil war \n",
      "실제 요약 : india crore to develop sri \n",
      "예측 요약 :  crore for india\n",
      "\n",
      "\n",
      "원문 : pakistan punjab province restored security mumbai terror attack mastermind hafiz saeed month supreme court ordered withdraw officials said saeed security restored threats life saeed repeatedly slammed pakistani government us pressure amid crackdown organisations charities \n",
      "실제 요약 : pak mumbai attack mastermind hafiz saeed security \n",
      "예측 요약 :  pakistan hafiz saeed to hafiz saeed\n",
      "\n",
      "\n",
      "원문 : said testing vegetarian chicken uk signature development still early stages options exploring kitchen still top secret spokesperson said fast food chain plans launch chicken like vegetarian options \n",
      "실제 요약 : to test in uk \n",
      "예측 요약 :  to\n",
      "\n",
      "\n",
      "원문 : former indian batsman sachin tendulkar scored record runs opener odi cricket opened first time former india captain management appointed team india first ever manager agreed let sachin open latter request passed away aged wednesday \n",
      "실제 요약 : sachin odi under management \n",
      "예측 요약 :  sachin fastest to score runs in\n",
      "\n",
      "\n",
      "원문 : russia federal security service foiled terror plot isis affiliated group targeting presidential elections director alexander said authorities arrested people links plot planned take place presidential campaigns well new year holidays russia foiled terror related including attacks \n",
      "실제 요약 : isis terror russian presidential polls \n",
      "예측 요약 :  russia releases against over anti\n",
      "\n",
      "\n",
      "원문 : indian captain virat kohli coach ravi shastri received honorary membership sydney cricket ground ahead india australia odi series kohli shastri hence join likes sachin tendulkar brian lara west indies received honorary membership sydney cricket ground \n",
      "실제 요약 : kohli receive of \n",
      "예측 요약 :  kohli to kohli\n",
      "\n",
      "\n",
      "원문 : rising pune supergiant player ms dhoni became second wicketkeeper complete ipl reaching landmark delhi daredevils friday dhoni th victim iyer former taking catch bowling dinesh karthik first wicketkeeper effect ipl reaching landmark last month \n",
      "실제 요약 : dhoni second to complete in ipl \n",
      "예측 요약 :  dhoni scores in odi\n",
      "\n",
      "\n",
      "원문 : group labourers living settlement near telangana village friday travelled km reach respective polling stations cast votes labourers otherwise travel work arranged private vehicles reach polling stations vote shows existence one labourers said \n",
      "실제 요약 : travel km to vote for telangana elections \n",
      "예측 요약 :  arunachal pradesh records in\n",
      "\n",
      "\n",
      "원문 : china people liberation army issued fresh statement saying principles standoff doklam bottom line asked india immediately pull back troops adding country chinese forces defend national sovereignty security development interests \n",
      "실제 요약 : has chinese army over \n"
     ]
    },
    {
     "name": "stdout",
     "output_type": "stream",
     "text": [
      "예측 요약 :  china to india\n",
      "\n",
      "\n",
      "원문 : russian sergey aboard international space station photographed hurricane powerful atlantic ocean hurricane recorded history category storm wind speeds reaching kmph expected hit florida saturday greater force hurricane harvey hit texas reportedly caused least deaths caribbean islands \n",
      "실제 요약 : most powerful hurricane from \n",
      "예측 요약 :  russia launches its first ever\n",
      "\n",
      "\n",
      "원문 : dera sacha sauda thursday claimed human buried inside headquarters added chief gurmeet ram rahim encouraged followers donate remains prevent causes pollution stated trees planted buried remains \n",
      "실제 요약 : found are dera \n",
      "예측 요약 :  ram rahim to make ram rahim minister\n",
      "\n",
      "\n",
      "원문 : addressing police conference madhya pradesh home minister rajnath singh saturday said pakistan youth jammu kashmir india terror infrastructure training camps launch pads communication stations continue exist pakistan pakistan occupied kashmir added singh also said instances communal violence increased india \n",
      "실제 요약 : pakistan youth against india rajnath singh \n",
      "예측 요약 :  rajnath singh rajnath singh\n",
      "\n",
      "\n",
      "원문 : maharashtra government tuesday announced lakh families two victims died amarnath yatra terror attack maharashtra strongly attack condolences families tweeted cm devendra fadnavis notably three pilgrims fifteen state left injured terror attack bus \n",
      "실제 요약 : maha announces for attack victims \n",
      "예측 요약 :  maharashtra police attack on mosque floods\n",
      "\n",
      "\n",
      "원문 : woman uttarakhand raised children years organisation helps women raise children need raised first adopted child children spanning four generations currently lives children rest away pursuing studies jobs living partners \n",
      "실제 요약 : woman has children \n",
      "예측 요약 :  delhi airport raises crore\n",
      "\n",
      "\n",
      "원문 : researchers found iron containing present record magnetic field around billion years ago discovery theory considers non uniform magnetic materials poor since non uniform discovery may lead new solar system formation help magnetic fields \n",
      "실제 요약 : oldest record discovered in \n",
      "예측 요약 :  world largest diamond makes\n",
      "\n",
      "\n",
      "원문 : benchmark indices bse sensex nse nifty closed calendar year higher respectively sensex closed record high points compared last year close nifty index closed points compared close points \n",
      "실제 요약 : sensex ends nifty up by in \n",
      "예측 요약 :  sensex nifty close above for the first\n",
      "\n",
      "\n",
      "원문 : canada banned silicon valley meal replacement drink called according blog post labs produces product post states canadian food inspection agency declared product meet standards meal replacement also mentioned startup work canada food regulator allow sales \n",
      "실제 요약 : canada bans \n",
      "예측 요약 :  bans lakh from uber\n",
      "\n",
      "\n",
      "원문 : sushant singh rajput said writing book titled book nothing put together thousands thoughts written years thoughts may connected pages read order would still thought added sushant said book self help guide \n",
      "실제 요약 : am book book about sushant \n",
      "예측 요약 :  sushant singh to\n",
      "\n",
      "\n",
      "원문 : american model kendall jenner conversation fashion photographer said wants get hot often love going like sexual get added notably year old model posed semi nude photos past \n",
      "실제 요약 : want to do \n",
      "예측 요약 :  to star\n",
      "\n",
      "\n",
      "원문 : mark bridges gave speech seconds winning oscar best costume design speech th academy awards bridges received jet ski free stay luxury hotel promised oscars host jimmy said winner speech short would \n",
      "실제 요약 : the speech at oscars seconds \n",
      "예측 요약 :  over of world cup\n",
      "\n",
      "\n",
      "원문 : nike controversial ad campaign featuring american football player received media exposure worth million less days according apex marketing group apex around publicity positive negative protested police violence racial us national anthem \n",
      "실제 요약 : ad creates media worth cr \n",
      "예측 요약 :  man auctioned for crore\n",
      "\n",
      "\n",
      "원문 : australian rounder glenn maxwell mocked indian captain virat kohli third day ranchi test maxwell stop boundary region kohli sustained injury got right shoulder indian skipper got next ball \n",
      "실제 요약 : mocks virat kohli \n",
      "예측 요약 :  gambhir to play gambhir\n",
      "\n",
      "\n",
      "원문 : tesla model week beat lamborghini seconds racing event charge tesla crossed finish line seconds speed nearly kilometres per hour according reports tesla model car set world record fastest suv \n",
      "실제 요약 : tesla model beats by seconds \n",
      "예측 요약 :  elon musk unveils first ever\n",
      "\n",
      "\n",
      "원문 : south african sprinter van currently holds metre record broke metre world record golden wednesday completed race seconds breaking american sprinter michael johnson record seconds notably metre race rare event track field \n",
      "실제 요약 : world record sets world record \n",
      "예측 요약 :  record record record for\n",
      "\n",
      "\n",
      "원문 : aap announced former advisor education minister manish sisodia first candidate lok sabha elections announcement reports said dropped last name mix avoid rumours christian aap officials clarified singh original given name \n",
      "실제 요약 : aap announces first candidate for lok sabha elections \n",
      "예측 요약 :  aap to contest election election\n",
      "\n",
      "\n",
      "원문 : bengaluru based digital lending startup capital monday said raised million series funding round led silicon valley based capital saif partners sequoia india also participated funding last year startup raised million series round led creation investments raising total capital million months \n",
      "실제 요약 : startup raises million in series funding \n",
      "예측 요약 :  bengaluru startup raises million\n",
      "\n",
      "\n",
      "원문 : hong kong based fintech startup co founded co founder raised million funding scale business across southeast asia raised investors including members group summit holdings established uses ai provide real time credit scoring demand lending financial solutions \n",
      "실제 요약 : co founder startup gets million \n",
      "예측 요약 :  startup raises crore in series\n",
      "\n",
      "\n",
      "원문 : pm narendra modi said congress government karnataka believes state cm siddaramaiah said prime minister right government siddaramaiah added pm modi lived promises three years whereas congress government launched several welfare development programmes state \n",
      "실제 요약 : karnataka cm slams pm modi for congress \n",
      "예측 요약 :  pm modi pm modi\n",
      "\n",
      "\n",
      "원문 : ahead meeting prime minister narendra modi chinese president xi jinping chinese state media monday said towards india within china replaced hope friendly ties china run newspaper global times said two countries need communication enhance mutual trust eliminate possibility another border crisis \n",
      "실제 요약 : hope for for india china \n",
      "예측 요약 :  india to become china\n",
      "\n",
      "\n",
      "원문 : singh sung new song meet upcoming film simran stars kangana ranaut song composed music composer duo sachin lyrics priya directed hansal mehta written film scheduled release september \n",
      "실제 요약 : singh meet for kangana ranaut \n",
      "예측 요약 :  to star in film\n",
      "\n",
      "\n",
      "원문 : union cabinet wednesday approved investment limit lakh government flagship senior citizen pension scheme pradhan yojana move enable pension per month senior citizens based annual return time limit subscription also extended march \n",
      "실제 요약 : investment for senior citizens to \n",
      "예측 요약 :  cabinet approves for aadhaar\n",
      "\n",
      "\n",
      "원문 : civilians killed since syrian government began air strikes eastern february syrian observatory human rights said strikes carried syrian russian planes meanwhile un security council failed agree resolution calling day ceasefire allow delivery aid \n",
      "실제 요약 : civilians killed in syria air strikes in week \n",
      "예측 요약 :  afghan afghan afghan syria kills\n",
      "\n",
      "\n"
     ]
    }
   ],
   "source": [
    "for i in range(50, 100):\n",
    "    print(\"원문 :\", seq2text(encoder_input_test[i]))\n",
    "    print(\"실제 요약 :\", seq2headlines(decoder_input_test[i]))\n",
    "    print(\"예측 요약 :\", decode_sequence(encoder_input_test[i].reshape(1, text_max_len)))\n",
    "    print(\"\\n\")"
   ]
  },
  {
   "cell_type": "markdown",
   "id": "prerequisite-hearing",
   "metadata": {},
   "source": [
    "5.  summa을 이용해서 추출적 요약해보기"
   ]
  },
  {
   "cell_type": "code",
   "execution_count": null,
   "id": "statistical-thumb",
   "metadata": {},
   "outputs": [],
   "source": [
    "import requests\n",
    "from summa.summarizer import summarize"
   ]
  },
  {
   "cell_type": "markdown",
   "id": "fresh-polyester",
   "metadata": {},
   "source": []
  },
  {
   "cell_type": "markdown",
   "id": "quiet-musician",
   "metadata": {},
   "source": []
  }
 ],
 "metadata": {
  "kernelspec": {
   "display_name": "Python 3",
   "language": "python",
   "name": "python3"
  },
  "language_info": {
   "codemirror_mode": {
    "name": "ipython",
    "version": 3
   },
   "file_extension": ".py",
   "mimetype": "text/x-python",
   "name": "python",
   "nbconvert_exporter": "python",
   "pygments_lexer": "ipython3",
   "version": "3.7.9"
  }
 },
 "nbformat": 4,
 "nbformat_minor": 5
}
