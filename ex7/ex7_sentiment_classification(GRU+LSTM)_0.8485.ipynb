{
 "cells": [
  {
   "cell_type": "markdown",
   "id": "forward-memorabilia",
   "metadata": {},
   "source": [
    "1) 데이터 준비와 확인"
   ]
  },
  {
   "cell_type": "code",
   "execution_count": 1,
   "id": "abandoned-lodging",
   "metadata": {},
   "outputs": [
    {
     "data": {
      "text/html": [
       "<div>\n",
       "<style scoped>\n",
       "    .dataframe tbody tr th:only-of-type {\n",
       "        vertical-align: middle;\n",
       "    }\n",
       "\n",
       "    .dataframe tbody tr th {\n",
       "        vertical-align: top;\n",
       "    }\n",
       "\n",
       "    .dataframe thead th {\n",
       "        text-align: right;\n",
       "    }\n",
       "</style>\n",
       "<table border=\"1\" class=\"dataframe\">\n",
       "  <thead>\n",
       "    <tr style=\"text-align: right;\">\n",
       "      <th></th>\n",
       "      <th>id</th>\n",
       "      <th>document</th>\n",
       "      <th>label</th>\n",
       "    </tr>\n",
       "  </thead>\n",
       "  <tbody>\n",
       "    <tr>\n",
       "      <th>0</th>\n",
       "      <td>9976970</td>\n",
       "      <td>아 더빙.. 진짜 짜증나네요 목소리</td>\n",
       "      <td>0</td>\n",
       "    </tr>\n",
       "    <tr>\n",
       "      <th>1</th>\n",
       "      <td>3819312</td>\n",
       "      <td>흠...포스터보고 초딩영화줄....오버연기조차 가볍지 않구나</td>\n",
       "      <td>1</td>\n",
       "    </tr>\n",
       "    <tr>\n",
       "      <th>2</th>\n",
       "      <td>10265843</td>\n",
       "      <td>너무재밓었다그래서보는것을추천한다</td>\n",
       "      <td>0</td>\n",
       "    </tr>\n",
       "    <tr>\n",
       "      <th>3</th>\n",
       "      <td>9045019</td>\n",
       "      <td>교도소 이야기구먼 ..솔직히 재미는 없다..평점 조정</td>\n",
       "      <td>0</td>\n",
       "    </tr>\n",
       "    <tr>\n",
       "      <th>4</th>\n",
       "      <td>6483659</td>\n",
       "      <td>사이몬페그의 익살스런 연기가 돋보였던 영화!스파이더맨에서 늙어보이기만 했던 커스틴 ...</td>\n",
       "      <td>1</td>\n",
       "    </tr>\n",
       "  </tbody>\n",
       "</table>\n",
       "</div>"
      ],
      "text/plain": [
       "         id                                           document  label\n",
       "0   9976970                                아 더빙.. 진짜 짜증나네요 목소리      0\n",
       "1   3819312                  흠...포스터보고 초딩영화줄....오버연기조차 가볍지 않구나      1\n",
       "2  10265843                                  너무재밓었다그래서보는것을추천한다      0\n",
       "3   9045019                      교도소 이야기구먼 ..솔직히 재미는 없다..평점 조정      0\n",
       "4   6483659  사이몬페그의 익살스런 연기가 돋보였던 영화!스파이더맨에서 늙어보이기만 했던 커스틴 ...      1"
      ]
     },
     "execution_count": 1,
     "metadata": {},
     "output_type": "execute_result"
    }
   ],
   "source": [
    "import pandas as pd\n",
    "import urllib.request\n",
    "%matplotlib inline\n",
    "import matplotlib.pyplot as plt\n",
    "import re\n",
    "from konlpy.tag import Okt\n",
    "from tensorflow import keras\n",
    "from tensorflow.keras.preprocessing.text import Tokenizer\n",
    "import numpy as np\n",
    "from tensorflow.keras.preprocessing.sequence import pad_sequences\n",
    "from collections import Counter\n",
    "\n",
    "train_data = pd.read_table('~/aiffel/sentiment_classification/data/ratings_train.txt')\n",
    "test_data = pd.read_table('~/aiffel/sentiment_classification/data/ratings_test.txt')\n",
    "\n",
    "train_data.head()"
   ]
  },
  {
   "cell_type": "markdown",
   "id": "negative-domain",
   "metadata": {},
   "source": [
    "2) 데이터로더 구성"
   ]
  },
  {
   "cell_type": "code",
   "execution_count": 2,
   "id": "intimate-divorce",
   "metadata": {},
   "outputs": [],
   "source": [
    "from konlpy.tag import Mecab\n",
    "tokenizer = Mecab()\n",
    "stopwords = ['의','가','이','은','들','는','좀','잘','걍','과','도','를','으로','자','에','와','한','하다']\n",
    "\n",
    "def load_data(train_data, test_data, num_words=10000):\n",
    "    train_data.drop_duplicates(subset=['document'], inplace=True)\n",
    "    train_data = train_data.dropna(how = 'any') \n",
    "    test_data.drop_duplicates(subset=['document'], inplace=True)\n",
    "    test_data = test_data.dropna(how = 'any') \n",
    "    \n",
    "    X_train = []\n",
    "    for sentence in train_data['document']:\n",
    "        temp_X = tokenizer.morphs(sentence) # 토큰화\n",
    "        temp_X = [word for word in temp_X if not word in stopwords] # 불용어 제거\n",
    "        X_train.append(temp_X)\n",
    "\n",
    "    X_test = []\n",
    "    for sentence in test_data['document']:\n",
    "        temp_X = tokenizer.morphs(sentence) # 토큰화\n",
    "        temp_X = [word for word in temp_X if not word in stopwords] # 불용어 제거\n",
    "        X_test.append(temp_X)\n",
    "    \n",
    "    words = np.concatenate(X_train).tolist()\n",
    "    counter = Counter(words)\n",
    "    counter = counter.most_common(10000-4)\n",
    "    vocab = ['', '', '', ''] + [key for key, _ in counter]\n",
    "    word_to_index = {word:index for index, word in enumerate(vocab)}\n",
    "\n",
    "        \n",
    "    \n",
    "    def wordlist_to_indexlist(wordlist):\n",
    "        return [word_to_index[word] if word in word_to_index else word_to_index[''] for word in wordlist]\n",
    "        \n",
    "    X_train = list(map(wordlist_to_indexlist, X_train))\n",
    "    X_test = list(map(wordlist_to_indexlist, X_test))\n",
    "        \n",
    "    return X_train, np.array(list(train_data['label'])), X_test, np.array(list(test_data['label'])), word_to_index\n",
    "    \n",
    "X_train, y_train, X_test, y_test, word_to_index = load_data(train_data, test_data)"
   ]
  },
  {
   "cell_type": "code",
   "execution_count": 3,
   "id": "wired-solomon",
   "metadata": {},
   "outputs": [],
   "source": [
    "word_to_index[\"<PAD>\"] = 0\n",
    "word_to_index[\"<BOS>\"] = 1\n",
    "word_to_index[\"<UNK>\"] = 2  # unknown\n",
    "word_to_index[\"<UNUSED>\"] = 3\n",
    "\n",
    "\n",
    "index_to_word = {index:word for word, index in word_to_index.items()}\n",
    "\n",
    "index_to_word[0] = \"<PAD>\"\n",
    "index_to_word[1] = \"<BOS>\"\n",
    "index_to_word[2] = \"<UNK>\"\n",
    "index_to_word[3] = \"<UNUSED>\""
   ]
  },
  {
   "cell_type": "code",
   "execution_count": 4,
   "id": "dedicated-herald",
   "metadata": {},
   "outputs": [
    {
     "name": "stdout",
     "output_type": "stream",
     "text": [
      "훈련 샘플 개수: 146182, 테스트 개수: 49157\n"
     ]
    }
   ],
   "source": [
    "print(\"훈련 샘플 개수: {}, 테스트 개수: {}\".format(len(X_train), len(X_test)))"
   ]
  },
  {
   "cell_type": "code",
   "execution_count": 5,
   "id": "curious-fitting",
   "metadata": {},
   "outputs": [],
   "source": [
    "# 문장 1개를 활용할 딕셔너리와 함께 주면, 단어 인덱스 리스트 벡터로 변환해 주는 함수입니다. \n",
    "# 단, 모든 문장은 <BOS>로 시작하는 것으로 합니다. \n",
    "def get_encoded_sentence(sentence, word_to_index):\n",
    "    return [word_to_index['<BOS>']]+[word_to_index[word] if word in word_to_index else word_to_index['<UNK>'] for word in sentence.split()]\n",
    "\n",
    "# 여러 개의 문장 리스트를 한꺼번에 단어 인덱스 리스트 벡터로 encode해 주는 함수입니다. \n",
    "def get_encoded_sentences(sentences, word_to_index):\n",
    "    return [get_encoded_sentence(sentence, word_to_index) for sentence in sentences]\n",
    "\n",
    "# 숫자 벡터로 encode된 문장을 원래대로 decode하는 함수입니다. \n",
    "def get_decoded_sentence(encoded_sentence, index_to_word):\n",
    "    return ' '.join(index_to_word[index] if index in index_to_word else '<UNK>' for index in encoded_sentence[1:])  #[1:]를 통해 <BOS>를 제외\n",
    "\n",
    "# 여러 개의 숫자 벡터로 encode된 문장을 한꺼번에 원래대로 decode하는 함수입니다. \n",
    "def get_decoded_sentences(encoded_sentences, index_to_word):\n",
    "    return [get_decoded_sentence(encoded_sentence, index_to_word) for encoded_sentence in encoded_sentences]"
   ]
  },
  {
   "cell_type": "markdown",
   "id": "brief-future",
   "metadata": {},
   "source": [
    "3) 모델구성을 위한 데이터 분석 및 가공"
   ]
  },
  {
   "cell_type": "code",
   "execution_count": 6,
   "id": "lyric-attention",
   "metadata": {},
   "outputs": [
    {
     "name": "stdout",
     "output_type": "stream",
     "text": [
      "문장길이 평균 :  15.96940191154864\n",
      "문장길이 최대 :  116\n",
      "문장길이 표준편차 :  12.843571191092\n",
      "pad_sequences maxlen :  41\n",
      "전체 문장의 0.9342988343341575%가 maxlen 설정값 이내에 포함됩니다. \n"
     ]
    }
   ],
   "source": [
    "total_data_text = list(X_train) + list(X_test)\n",
    "# 텍스트데이터 문장길이의 리스트를 생성한 후\n",
    "num_tokens = [len(tokens) for tokens in total_data_text]\n",
    "num_tokens = np.array(num_tokens)\n",
    "# 문장길이의 평균값, 최대값, 표준편차를 계산해 본다. \n",
    "print('문장길이 평균 : ', np.mean(num_tokens))\n",
    "print('문장길이 최대 : ', np.max(num_tokens))\n",
    "print('문장길이 표준편차 : ', np.std(num_tokens))\n",
    "\n",
    "# 예를들어, 최대 길이를 (평균 + 2*표준편차)로 한다면,  \n",
    "max_tokens = np.mean(num_tokens) + 2 * np.std(num_tokens)\n",
    "maxlen = int(max_tokens)\n",
    "print('pad_sequences maxlen : ', maxlen)\n",
    "print('전체 문장의 {}%가 maxlen 설정값 이내에 포함됩니다. '.format(np.sum(num_tokens < max_tokens) / len(num_tokens)))"
   ]
  },
  {
   "cell_type": "code",
   "execution_count": 7,
   "id": "meaningful-evolution",
   "metadata": {},
   "outputs": [
    {
     "name": "stdout",
     "output_type": "stream",
     "text": [
      "(146182, 41)\n"
     ]
    }
   ],
   "source": [
    "X_train = keras.preprocessing.sequence.pad_sequences(X_train, value=word_to_index[\"<PAD>\"],\n",
    "                                                        padding='pre', \n",
    "                                                        maxlen=maxlen)\n",
    "\n",
    "X_test = keras.preprocessing.sequence.pad_sequences(X_test, value=word_to_index[\"<PAD>\"],\n",
    "                                                       padding='pre',\n",
    "                                                       maxlen=maxlen)\n",
    "\n",
    "print(X_train.shape)"
   ]
  },
  {
   "cell_type": "markdown",
   "id": "interstate-prayer",
   "metadata": {},
   "source": [
    "4) 모델구성 및 validation set 구성"
   ]
  },
  {
   "cell_type": "code",
   "execution_count": 8,
   "id": "married-baseball",
   "metadata": {},
   "outputs": [
    {
     "name": "stdout",
     "output_type": "stream",
     "text": [
      "Model: \"sequential\"\n",
      "_________________________________________________________________\n",
      "Layer (type)                 Output Shape              Param #   \n",
      "=================================================================\n",
      "embedding (Embedding)        (None, None, 200)         2000000   \n",
      "_________________________________________________________________\n",
      "gru (GRU)                    (None, None, 128)         126720    \n",
      "_________________________________________________________________\n",
      "lstm (LSTM)                  (None, 64)                49408     \n",
      "_________________________________________________________________\n",
      "dense (Dense)                (None, 128)               8320      \n",
      "_________________________________________________________________\n",
      "dense_1 (Dense)              (None, 1)                 129       \n",
      "=================================================================\n",
      "Total params: 2,184,577\n",
      "Trainable params: 2,184,577\n",
      "Non-trainable params: 0\n",
      "_________________________________________________________________\n"
     ]
    }
   ],
   "source": [
    "vocab_size = 10000    # 어휘 사전의 크기입니다(10,000개의 단어)\n",
    "word_vector_dim = 200  # 워드 벡터의 차원 수 (변경 가능한 하이퍼파라미터)\n",
    "\n",
    "model = keras.Sequential()\n",
    "model.add(keras.layers.Embedding(vocab_size, word_vector_dim, input_shape=(None,)))\n",
    "model.add(keras.layers.GRU(128,  return_sequences=True))\n",
    "model.add(keras.layers.LSTM(64))\n",
    "model.add(keras.layers.Dense(128, activation='relu'))\n",
    "model.add(keras.layers.Dense(1, activation='sigmoid'))  # 최종 출력은 긍정/부정을 나타내는 1dim 입니다.\n",
    "\n",
    "model.summary()"
   ]
  },
  {
   "cell_type": "code",
   "execution_count": 9,
   "id": "vocal-editor",
   "metadata": {},
   "outputs": [
    {
     "name": "stdout",
     "output_type": "stream",
     "text": [
      "(100000, 41)\n",
      "(100000,)\n"
     ]
    }
   ],
   "source": [
    "# validation set 46,182건 분리\n",
    "x_val = X_train[:46182]   \n",
    "y_val = y_train[:46182]\n",
    "\n",
    "# validation set을 제외한 나머지 1000,00건\n",
    "partial_x_train = X_train[46182:]  \n",
    "partial_y_train = y_train[46182:]\n",
    "\n",
    "print(partial_x_train.shape)\n",
    "print(partial_y_train.shape)"
   ]
  },
  {
   "cell_type": "markdown",
   "id": "passing-antenna",
   "metadata": {},
   "source": [
    "5) 모델 훈련 개시"
   ]
  },
  {
   "cell_type": "code",
   "execution_count": 10,
   "id": "level-trauma",
   "metadata": {},
   "outputs": [
    {
     "name": "stdout",
     "output_type": "stream",
     "text": [
      "Epoch 1/25\n",
      "196/196 [==============================] - 22s 88ms/step - loss: 0.4994 - accuracy: 0.7479 - val_loss: 0.3453 - val_accuracy: 0.8484\n",
      "Epoch 2/25\n",
      "196/196 [==============================] - 16s 83ms/step - loss: 0.3135 - accuracy: 0.8663 - val_loss: 0.3252 - val_accuracy: 0.8564\n",
      "Epoch 3/25\n",
      "196/196 [==============================] - 16s 83ms/step - loss: 0.2642 - accuracy: 0.8885 - val_loss: 0.3267 - val_accuracy: 0.8608\n",
      "Epoch 4/25\n",
      "196/196 [==============================] - 16s 82ms/step - loss: 0.2239 - accuracy: 0.9079 - val_loss: 0.3473 - val_accuracy: 0.8535\n",
      "Epoch 5/25\n",
      "196/196 [==============================] - 16s 83ms/step - loss: 0.1928 - accuracy: 0.9223 - val_loss: 0.3857 - val_accuracy: 0.8536\n",
      "Epoch 6/25\n",
      "196/196 [==============================] - 16s 84ms/step - loss: 0.1674 - accuracy: 0.9335 - val_loss: 0.4070 - val_accuracy: 0.8520\n",
      "Epoch 7/25\n",
      "196/196 [==============================] - 16s 83ms/step - loss: 0.1464 - accuracy: 0.9421 - val_loss: 0.4486 - val_accuracy: 0.8468\n",
      "Epoch 8/25\n",
      "196/196 [==============================] - 16s 84ms/step - loss: 0.1242 - accuracy: 0.9519 - val_loss: 0.5090 - val_accuracy: 0.8425\n",
      "Epoch 9/25\n",
      "196/196 [==============================] - 16s 84ms/step - loss: 0.1120 - accuracy: 0.9560 - val_loss: 0.5736 - val_accuracy: 0.8434\n",
      "Epoch 10/25\n",
      "196/196 [==============================] - 16s 83ms/step - loss: 0.0947 - accuracy: 0.9635 - val_loss: 0.6058 - val_accuracy: 0.8450\n",
      "Epoch 11/25\n",
      "196/196 [==============================] - 16s 84ms/step - loss: 0.0822 - accuracy: 0.9680 - val_loss: 0.6661 - val_accuracy: 0.8452\n",
      "Epoch 12/25\n",
      "196/196 [==============================] - 16s 83ms/step - loss: 0.0775 - accuracy: 0.9710 - val_loss: 0.7306 - val_accuracy: 0.8431\n",
      "Epoch 13/25\n",
      "196/196 [==============================] - 16s 84ms/step - loss: 0.0681 - accuracy: 0.9734 - val_loss: 0.7608 - val_accuracy: 0.8408\n",
      "Epoch 14/25\n",
      "196/196 [==============================] - 16s 83ms/step - loss: 0.0605 - accuracy: 0.9764 - val_loss: 0.7814 - val_accuracy: 0.8371\n",
      "Epoch 15/25\n",
      "196/196 [==============================] - 16s 84ms/step - loss: 0.0540 - accuracy: 0.9787 - val_loss: 0.8891 - val_accuracy: 0.8436\n",
      "Epoch 16/25\n",
      "196/196 [==============================] - 16s 84ms/step - loss: 0.0512 - accuracy: 0.9800 - val_loss: 0.8436 - val_accuracy: 0.8393\n",
      "Epoch 17/25\n",
      "196/196 [==============================] - 16s 83ms/step - loss: 0.0457 - accuracy: 0.9819 - val_loss: 0.9707 - val_accuracy: 0.8374\n",
      "Epoch 18/25\n",
      "196/196 [==============================] - 17s 85ms/step - loss: 0.0414 - accuracy: 0.9829 - val_loss: 0.9823 - val_accuracy: 0.8388\n",
      "Epoch 19/25\n",
      "196/196 [==============================] - 16s 84ms/step - loss: 0.0378 - accuracy: 0.9848 - val_loss: 1.0352 - val_accuracy: 0.8374\n",
      "Epoch 20/25\n",
      "196/196 [==============================] - 17s 85ms/step - loss: 0.0345 - accuracy: 0.9861 - val_loss: 1.0765 - val_accuracy: 0.8391\n",
      "Epoch 21/25\n",
      "196/196 [==============================] - 17s 84ms/step - loss: 0.0323 - accuracy: 0.9868 - val_loss: 1.0622 - val_accuracy: 0.8361\n",
      "Epoch 22/25\n",
      "196/196 [==============================] - 18s 94ms/step - loss: 0.0325 - accuracy: 0.9871 - val_loss: 1.1126 - val_accuracy: 0.8355\n",
      "Epoch 23/25\n",
      "196/196 [==============================] - 20s 100ms/step - loss: 0.0286 - accuracy: 0.9885 - val_loss: 1.1372 - val_accuracy: 0.8375\n",
      "Epoch 24/25\n",
      "196/196 [==============================] - 26s 131ms/step - loss: 0.0246 - accuracy: 0.9900 - val_loss: 1.1453 - val_accuracy: 0.8389\n",
      "Epoch 25/25\n",
      "196/196 [==============================] - 26s 134ms/step - loss: 0.0238 - accuracy: 0.9902 - val_loss: 1.2686 - val_accuracy: 0.8349\n"
     ]
    }
   ],
   "source": [
    "model.compile(optimizer='adam',\n",
    "              loss='binary_crossentropy',\n",
    "              metrics=['accuracy'])\n",
    "              \n",
    "epochs=25  # 몇 epoch를 훈련하면 좋을지 결과를 보면서 바꾸어 봅시다. \n",
    "\n",
    "history = model.fit(partial_x_train,\n",
    "                    partial_y_train,\n",
    "                    epochs=epochs,\n",
    "                    batch_size=512,\n",
    "                    validation_data=(x_val, y_val),\n",
    "                    verbose=1)"
   ]
  },
  {
   "cell_type": "code",
   "execution_count": 11,
   "id": "seasonal-salvation",
   "metadata": {},
   "outputs": [
    {
     "name": "stdout",
     "output_type": "stream",
     "text": [
      "1537/1537 - 35s - loss: 1.2955 - accuracy: 0.8323\n",
      "[1.295451283454895, 0.8322721123695374]\n"
     ]
    }
   ],
   "source": [
    "results = model.evaluate(X_test,  y_test, verbose=2)\n",
    "\n",
    "print(results)"
   ]
  },
  {
   "cell_type": "markdown",
   "id": "crude-salem",
   "metadata": {},
   "source": [
    "6) loss, accuracy 그래프 시각화"
   ]
  },
  {
   "cell_type": "code",
   "execution_count": 12,
   "id": "wound-clear",
   "metadata": {},
   "outputs": [
    {
     "name": "stdout",
     "output_type": "stream",
     "text": [
      "dict_keys(['loss', 'accuracy', 'val_loss', 'val_accuracy'])\n"
     ]
    }
   ],
   "source": [
    "history_dict = history.history\n",
    "print(history_dict.keys()) # epoch에 따른 그래프를 그려볼 수 있는 항목들"
   ]
  },
  {
   "cell_type": "code",
   "execution_count": 13,
   "id": "hungry-recycling",
   "metadata": {},
   "outputs": [
    {
     "data": {
      "image/png": "[encoded data removed]",
      "text/plain": [
       "<Figure size 432x288 with 1 Axes>"
      ]
     },
     "metadata": {
      "needs_background": "light"
     },
     "output_type": "display_data"
    }
   ],
   "source": [
    "import matplotlib.pyplot as plt\n",
    "\n",
    "acc = history_dict['accuracy']\n",
    "val_acc = history_dict['val_accuracy']\n",
    "loss = history_dict['loss']\n",
    "val_loss = history_dict['val_loss']\n",
    "\n",
    "epochs = range(1, len(acc) + 1)\n",
    "\n",
    "# \"bo\"는 \"파란색 점\"입니다\n",
    "plt.plot(epochs, loss, 'bo', label='Training loss')\n",
    "# b는 \"파란 실선\"입니다\n",
    "plt.plot(epochs, val_loss, 'b', label='Validation loss')\n",
    "plt.title('Training and validation loss')\n",
    "plt.xlabel('Epochs')\n",
    "plt.ylabel('Loss')\n",
    "plt.legend()\n",
    "\n",
    "plt.show()"
   ]
  },
  {
   "cell_type": "code",
   "execution_count": 14,
   "id": "suspected-measure",
   "metadata": {},
   "outputs": [
    {
     "data": {
      "image/png": "[encoded data removed]",
      "text/plain": [
       "<Figure size 432x288 with 1 Axes>"
      ]
     },
     "metadata": {
      "needs_background": "light"
     },
     "output_type": "display_data"
    }
   ],
   "source": [
    "plt.clf()   # 그림을 초기화합니다\n",
    "\n",
    "plt.plot(epochs, acc, 'bo', label='Training acc')\n",
    "plt.plot(epochs, val_acc, 'b', label='Validation acc')\n",
    "plt.title('Training and validation accuracy')\n",
    "plt.xlabel('Epochs')\n",
    "plt.ylabel('Accuracy')\n",
    "plt.legend()\n",
    "\n",
    "plt.show()"
   ]
  },
  {
   "cell_type": "markdown",
   "id": "involved-resource",
   "metadata": {},
   "source": [
    "7) 학습된 embedding 레이어 분석"
   ]
  },
  {
   "cell_type": "markdown",
   "id": "endless-sweet",
   "metadata": {},
   "source": [
    "8) 한국어 Word2vec 임베딩 확용하여 성능개선\n",
    "[링크](https://github.com/Kyubyong/wordvectors)"
   ]
  },
  {
   "cell_type": "code",
   "execution_count": 15,
   "id": "fallen-smart",
   "metadata": {},
   "outputs": [
    {
     "name": "stdout",
     "output_type": "stream",
     "text": [
      "Requirement already satisfied: gensim==3.8.3 in /opt/conda/lib/python3.7/site-packages (3.8.3)\n",
      "Requirement already satisfied: numpy>=1.11.3 in /opt/conda/lib/python3.7/site-packages (from gensim==3.8.3) (1.19.5)\n",
      "Requirement already satisfied: six>=1.5.0 in /opt/conda/lib/python3.7/site-packages (from gensim==3.8.3) (1.15.0)\n",
      "Requirement already satisfied: smart-open>=1.8.1 in /opt/conda/lib/python3.7/site-packages (from gensim==3.8.3) (4.1.2)\n",
      "Requirement already satisfied: scipy>=0.18.1 in /opt/conda/lib/python3.7/site-packages (from gensim==3.8.3) (1.4.1)\n",
      "\u001b[33mWARNING: You are using pip version 20.3.3; however, version 21.2.3 is available.\n",
      "You should consider upgrading via the '/opt/conda/bin/python3.7 -m pip install --upgrade pip' command.\u001b[0m\n"
     ]
    }
   ],
   "source": [
    "!pip install --upgrade gensim==3.8.3"
   ]
  },
  {
   "cell_type": "code",
   "execution_count": 16,
   "id": "august-swing",
   "metadata": {},
   "outputs": [
    {
     "name": "stdout",
     "output_type": "stream",
     "text": [
      "3.8.3\n"
     ]
    }
   ],
   "source": [
    "import gensim\n",
    "from gensim.models.keyedvectors import Word2VecKeyedVectors\n",
    "print(gensim.__version__)"
   ]
  },
  {
   "cell_type": "code",
   "execution_count": 17,
   "id": "stretch-board",
   "metadata": {},
   "outputs": [
    {
     "name": "stdout",
     "output_type": "stream",
     "text": [
      "(10000, 200)\n"
     ]
    }
   ],
   "source": [
    "embedding_layer = model.layers[0]\n",
    "weights = embedding_layer.get_weights()[0]\n",
    "print(weights.shape)    # shape: (vocab_size, embedding_dim)"
   ]
  },
  {
   "cell_type": "code",
   "execution_count": 18,
   "id": "professional-horror",
   "metadata": {},
   "outputs": [],
   "source": [
    "import os\n",
    "\n",
    "# 학습한 Embedding 파라미터를 파일에 써서 저장합니다. \n",
    "word2vec_file_path = os.getenv('HOME')+'/aiffel/sentiment_classification/data/word2vec.txt'\n",
    "f = open(word2vec_file_path, 'w')\n",
    "f.write('{} {}\\n'.format(vocab_size-4, word_vector_dim))  # 몇개의 벡터를 얼마 사이즈로 기재할지 타이틀을 씁니다.\n",
    "\n",
    "# 단어 개수(에서 특수문자 4개는 제외하고)만큼의 워드 벡터를 파일에 기록합니다. \n",
    "vectors = model.get_weights()[0]\n",
    "for i in range(4,vocab_size):\n",
    "    f.write('{} {}\\n'.format(index_to_word[i], ' '.join(map(str, list(vectors[i, :])))))\n",
    "f.close()"
   ]
  },
  {
   "cell_type": "code",
   "execution_count": 19,
   "id": "bibliographic-posting",
   "metadata": {},
   "outputs": [
    {
     "data": {
      "text/plain": [
       "[('갔다왔', 0.7542687654495239),\n",
       " ('실상', 0.7412338256835938),\n",
       " ('져요', 0.734137237071991),\n",
       " ('올립니다', 0.7335740923881531),\n",
       " ('성준', 0.72575443983078),\n",
       " ('클래식', 0.7226604223251343),\n",
       " ('제공', 0.7208964228630066),\n",
       " ('드러난다', 0.7190683484077454),\n",
       " ('오드리', 0.7122461795806885),\n",
       " ('질까', 0.7118242979049683)]"
      ]
     },
     "execution_count": 19,
     "metadata": {},
     "output_type": "execute_result"
    }
   ],
   "source": [
    "word_vectors = Word2VecKeyedVectors.load_word2vec_format(word2vec_file_path, binary=False)\n",
    "word2vec_path = os.getenv('HOME')+'/aiffel/sentiment_classification/data/ko.bin'\n",
    "word2vec = gensim.models.Word2Vec.load(word2vec_path)\n",
    "word_vectors.similar_by_word(\"좋아\")"
   ]
  },
  {
   "cell_type": "code",
   "execution_count": 21,
   "id": "seasonal-conversation",
   "metadata": {},
   "outputs": [
    {
     "name": "stderr",
     "output_type": "stream",
     "text": [
      "/opt/conda/lib/python3.7/site-packages/ipykernel_launcher.py:8: DeprecationWarning: Call to deprecated `__contains__` (Method will be removed in 4.0.0, use self.wv.__contains__() instead).\n",
      "  \n",
      "/opt/conda/lib/python3.7/site-packages/ipykernel_launcher.py:9: DeprecationWarning: Call to deprecated `__getitem__` (Method will be removed in 4.0.0, use self.wv.__getitem__() instead).\n",
      "  if __name__ == '__main__':\n"
     ]
    }
   ],
   "source": [
    "vocab_size = 10000    # 어휘 사전의 크기입니다(10,000개의 단어)\n",
    "word_vector_dim = 200  # 워드 벡터의 차원수 (변경가능한 하이퍼파라미터)\n",
    "\n",
    "embedding_matrix = np.random.rand(vocab_size, word_vector_dim)\n",
    "\n",
    "# embedding_matrix에 Word2Vec 워드 벡터를 단어 하나씩마다 차례차례 카피한다.\n",
    "for i in range(4,vocab_size):\n",
    "    if index_to_word[i] in word2vec:\n",
    "        embedding_matrix[i] = word2vec[index_to_word[i]]"
   ]
  },
  {
   "cell_type": "code",
   "execution_count": 22,
   "id": "happy-voltage",
   "metadata": {},
   "outputs": [
    {
     "name": "stdout",
     "output_type": "stream",
     "text": [
      "Model: \"sequential_1\"\n",
      "_________________________________________________________________\n",
      "Layer (type)                 Output Shape              Param #   \n",
      "=================================================================\n",
      "embedding_1 (Embedding)      (None, 41, 200)           2000000   \n",
      "_________________________________________________________________\n",
      "gru_1 (GRU)                  (None, 41, 128)           126720    \n",
      "_________________________________________________________________\n",
      "lstm_1 (LSTM)                (None, 64)                49408     \n",
      "_________________________________________________________________\n",
      "dense_2 (Dense)              (None, 128)               8320      \n",
      "_________________________________________________________________\n",
      "dense_3 (Dense)              (None, 1)                 129       \n",
      "=================================================================\n",
      "Total params: 2,184,577\n",
      "Trainable params: 2,184,577\n",
      "Non-trainable params: 0\n",
      "_________________________________________________________________\n"
     ]
    }
   ],
   "source": [
    "from tensorflow.keras.initializers import Constant\n",
    "\n",
    "vocab_size = 10000    # 어휘 사전의 크기입니다(10,000개의 단어)\n",
    "word_vector_dim = 200  # 워드 벡터의 차원 수 (변경가능한 하이퍼파라미터)\n",
    "\n",
    "# 모델 구성\n",
    "model = keras.Sequential()\n",
    "model.add(keras.layers.Embedding(vocab_size, \n",
    "                                 word_vector_dim, \n",
    "                                 embeddings_initializer=Constant(embedding_matrix),  # 카피한 임베딩을 여기서 활용\n",
    "                                 input_length=maxlen, \n",
    "                                 trainable=True))   # trainable을 True로 주면 Fine-tuning\n",
    "model.add(keras.layers.GRU(128,  return_sequences=True))\n",
    "model.add(keras.layers.LSTM(64))\n",
    "model.add(keras.layers.Dense(128, activation='relu'))\n",
    "model.add(keras.layers.Dense(1, activation='sigmoid'))  # 최종 출력은 긍정/부정을 나타내는 1dim 입니다.\n",
    "\n",
    "model.summary()"
   ]
  },
  {
   "cell_type": "code",
   "execution_count": 23,
   "id": "overhead-level",
   "metadata": {},
   "outputs": [
    {
     "name": "stdout",
     "output_type": "stream",
     "text": [
      "Epoch 1/25\n",
      "196/196 [==============================] - 30s 138ms/step - loss: 0.5271 - accuracy: 0.7288 - val_loss: 0.3564 - val_accuracy: 0.8428\n",
      "Epoch 2/25\n",
      "196/196 [==============================] - 26s 134ms/step - loss: 0.3356 - accuracy: 0.8550 - val_loss: 0.3236 - val_accuracy: 0.8589\n",
      "Epoch 3/25\n",
      "196/196 [==============================] - 26s 135ms/step - loss: 0.2825 - accuracy: 0.8816 - val_loss: 0.3144 - val_accuracy: 0.8649\n",
      "Epoch 4/25\n",
      "196/196 [==============================] - 26s 134ms/step - loss: 0.2433 - accuracy: 0.9005 - val_loss: 0.3285 - val_accuracy: 0.8607\n",
      "Epoch 5/25\n",
      "196/196 [==============================] - 26s 134ms/step - loss: 0.2156 - accuracy: 0.9135 - val_loss: 0.3317 - val_accuracy: 0.8626\n",
      "Epoch 6/25\n",
      "196/196 [==============================] - 26s 134ms/step - loss: 0.1807 - accuracy: 0.9297 - val_loss: 0.3511 - val_accuracy: 0.8633\n",
      "Epoch 7/25\n",
      "196/196 [==============================] - 26s 135ms/step - loss: 0.1560 - accuracy: 0.9404 - val_loss: 0.4058 - val_accuracy: 0.8597\n",
      "Epoch 8/25\n",
      "196/196 [==============================] - 26s 134ms/step - loss: 0.1234 - accuracy: 0.9537 - val_loss: 0.4247 - val_accuracy: 0.8582\n",
      "Epoch 9/25\n",
      "196/196 [==============================] - 26s 134ms/step - loss: 0.1004 - accuracy: 0.9636 - val_loss: 0.5053 - val_accuracy: 0.8584\n",
      "Epoch 10/25\n",
      "196/196 [==============================] - 26s 134ms/step - loss: 0.0778 - accuracy: 0.9721 - val_loss: 0.5747 - val_accuracy: 0.8545\n",
      "Epoch 11/25\n",
      "196/196 [==============================] - 26s 134ms/step - loss: 0.0617 - accuracy: 0.9779 - val_loss: 0.6263 - val_accuracy: 0.8522\n",
      "Epoch 12/25\n",
      "196/196 [==============================] - 26s 134ms/step - loss: 0.0520 - accuracy: 0.9811 - val_loss: 0.6946 - val_accuracy: 0.8510\n",
      "Epoch 13/25\n",
      "196/196 [==============================] - 26s 134ms/step - loss: 0.0408 - accuracy: 0.9854 - val_loss: 0.7909 - val_accuracy: 0.8533\n",
      "Epoch 14/25\n",
      "196/196 [==============================] - 26s 134ms/step - loss: 0.0332 - accuracy: 0.9879 - val_loss: 0.8450 - val_accuracy: 0.8520\n",
      "Epoch 15/25\n",
      "196/196 [==============================] - 26s 134ms/step - loss: 0.0299 - accuracy: 0.9887 - val_loss: 0.8784 - val_accuracy: 0.8512\n",
      "Epoch 16/25\n",
      "196/196 [==============================] - 26s 134ms/step - loss: 0.0307 - accuracy: 0.9882 - val_loss: 0.8793 - val_accuracy: 0.8506\n",
      "Epoch 17/25\n",
      "196/196 [==============================] - 26s 133ms/step - loss: 0.0311 - accuracy: 0.9882 - val_loss: 0.8960 - val_accuracy: 0.8519\n",
      "Epoch 18/25\n",
      "196/196 [==============================] - 26s 134ms/step - loss: 0.0189 - accuracy: 0.9932 - val_loss: 1.0482 - val_accuracy: 0.8525\n",
      "Epoch 19/25\n",
      "196/196 [==============================] - 26s 134ms/step - loss: 0.0188 - accuracy: 0.9925 - val_loss: 1.0320 - val_accuracy: 0.8528\n",
      "Epoch 20/25\n",
      "196/196 [==============================] - 21s 109ms/step - loss: 0.0209 - accuracy: 0.9916 - val_loss: 1.0300 - val_accuracy: 0.8513\n",
      "Epoch 21/25\n",
      "196/196 [==============================] - 16s 79ms/step - loss: 0.0201 - accuracy: 0.9923 - val_loss: 1.0707 - val_accuracy: 0.8541\n",
      "Epoch 22/25\n",
      "196/196 [==============================] - 14s 71ms/step - loss: 0.0133 - accuracy: 0.9950 - val_loss: 1.1371 - val_accuracy: 0.8545\n",
      "Epoch 23/25\n",
      "196/196 [==============================] - 18s 90ms/step - loss: 0.0193 - accuracy: 0.9928 - val_loss: 1.1190 - val_accuracy: 0.8553\n",
      "Epoch 24/25\n",
      "196/196 [==============================] - 19s 95ms/step - loss: 0.0153 - accuracy: 0.9936 - val_loss: 1.0695 - val_accuracy: 0.8523\n",
      "Epoch 25/25\n",
      "196/196 [==============================] - 20s 102ms/step - loss: 0.0149 - accuracy: 0.9940 - val_loss: 1.0937 - val_accuracy: 0.8525\n"
     ]
    }
   ],
   "source": [
    "# 학습의 진행\n",
    "model.compile(optimizer='adam',\n",
    "              loss='binary_crossentropy',\n",
    "              metrics=['accuracy'])\n",
    "              \n",
    "epochs=25  # 몇 epoch를 훈련하면 좋을지 결과를 보면서 바꾸어 봅시다. \n",
    "\n",
    "history = model.fit(partial_x_train,\n",
    "                    partial_y_train,\n",
    "                    epochs=epochs,\n",
    "                    batch_size=512,\n",
    "                    validation_data=(x_val, y_val),\n",
    "                    verbose=1)"
   ]
  },
  {
   "cell_type": "code",
   "execution_count": 24,
   "id": "acquired-collector",
   "metadata": {},
   "outputs": [
    {
     "name": "stdout",
     "output_type": "stream",
     "text": [
      "1537/1537 - 26s - loss: 1.1201 - accuracy: 0.8485\n",
      "[1.1201359033584595, 0.8484651446342468]\n"
     ]
    }
   ],
   "source": [
    "# 테스트셋을 통한 모델 평가\n",
    "results = model.evaluate(X_test,  y_test, verbose=2)\n",
    "\n",
    "print(results)"
   ]
  }
 ],
 "metadata": {
  "kernelspec": {
   "display_name": "Python 3",
   "language": "python",
   "name": "python3"
  },
  "language_info": {
   "codemirror_mode": {
    "name": "ipython",
    "version": 3
   },
   "file_extension": ".py",
   "mimetype": "text/x-python",
   "name": "python",
   "nbconvert_exporter": "python",
   "pygments_lexer": "ipython3",
   "version": "3.7.9"
  }
 },
 "nbformat": 4,
 "nbformat_minor": 5
}
