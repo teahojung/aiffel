{
 "cells": [
  {
   "cell_type": "markdown",
   "id": "controversial-humanity",
   "metadata": {},
   "source": [
    "1) 데이터 준비와 확인"
   ]
  },
  {
   "cell_type": "code",
   "execution_count": 1,
   "id": "developing-embassy",
   "metadata": {},
   "outputs": [
    {
     "data": {
      "text/html": [
       "<div>\n",
       "<style scoped>\n",
       "    .dataframe tbody tr th:only-of-type {\n",
       "        vertical-align: middle;\n",
       "    }\n",
       "\n",
       "    .dataframe tbody tr th {\n",
       "        vertical-align: top;\n",
       "    }\n",
       "\n",
       "    .dataframe thead th {\n",
       "        text-align: right;\n",
       "    }\n",
       "</style>\n",
       "<table border=\"1\" class=\"dataframe\">\n",
       "  <thead>\n",
       "    <tr style=\"text-align: right;\">\n",
       "      <th></th>\n",
       "      <th>id</th>\n",
       "      <th>document</th>\n",
       "      <th>label</th>\n",
       "    </tr>\n",
       "  </thead>\n",
       "  <tbody>\n",
       "    <tr>\n",
       "      <th>0</th>\n",
       "      <td>9976970</td>\n",
       "      <td>아 더빙.. 진짜 짜증나네요 목소리</td>\n",
       "      <td>0</td>\n",
       "    </tr>\n",
       "    <tr>\n",
       "      <th>1</th>\n",
       "      <td>3819312</td>\n",
       "      <td>흠...포스터보고 초딩영화줄....오버연기조차 가볍지 않구나</td>\n",
       "      <td>1</td>\n",
       "    </tr>\n",
       "    <tr>\n",
       "      <th>2</th>\n",
       "      <td>10265843</td>\n",
       "      <td>너무재밓었다그래서보는것을추천한다</td>\n",
       "      <td>0</td>\n",
       "    </tr>\n",
       "    <tr>\n",
       "      <th>3</th>\n",
       "      <td>9045019</td>\n",
       "      <td>교도소 이야기구먼 ..솔직히 재미는 없다..평점 조정</td>\n",
       "      <td>0</td>\n",
       "    </tr>\n",
       "    <tr>\n",
       "      <th>4</th>\n",
       "      <td>6483659</td>\n",
       "      <td>사이몬페그의 익살스런 연기가 돋보였던 영화!스파이더맨에서 늙어보이기만 했던 커스틴 ...</td>\n",
       "      <td>1</td>\n",
       "    </tr>\n",
       "  </tbody>\n",
       "</table>\n",
       "</div>"
      ],
      "text/plain": [
       "         id                                           document  label\n",
       "0   9976970                                아 더빙.. 진짜 짜증나네요 목소리      0\n",
       "1   3819312                  흠...포스터보고 초딩영화줄....오버연기조차 가볍지 않구나      1\n",
       "2  10265843                                  너무재밓었다그래서보는것을추천한다      0\n",
       "3   9045019                      교도소 이야기구먼 ..솔직히 재미는 없다..평점 조정      0\n",
       "4   6483659  사이몬페그의 익살스런 연기가 돋보였던 영화!스파이더맨에서 늙어보이기만 했던 커스틴 ...      1"
      ]
     },
     "execution_count": 1,
     "metadata": {},
     "output_type": "execute_result"
    }
   ],
   "source": [
    "import pandas as pd\n",
    "import urllib.request\n",
    "%matplotlib inline\n",
    "import matplotlib.pyplot as plt\n",
    "import re\n",
    "from konlpy.tag import Okt\n",
    "from tensorflow import keras\n",
    "from tensorflow.keras.preprocessing.text import Tokenizer\n",
    "import numpy as np\n",
    "from tensorflow.keras.preprocessing.sequence import pad_sequences\n",
    "from collections import Counter\n",
    "\n",
    "train_data = pd.read_table('~/aiffel/sentiment_classification/data/ratings_train.txt')\n",
    "test_data = pd.read_table('~/aiffel/sentiment_classification/data/ratings_test.txt')\n",
    "\n",
    "train_data.head()"
   ]
  },
  {
   "cell_type": "markdown",
   "id": "offshore-singapore",
   "metadata": {},
   "source": [
    "2) 데이터로더 구성"
   ]
  },
  {
   "cell_type": "code",
   "execution_count": 2,
   "id": "manual-easter",
   "metadata": {},
   "outputs": [],
   "source": [
    "from konlpy.tag import Mecab\n",
    "tokenizer = Mecab()\n",
    "stopwords = ['의','가','이','은','들','는','좀','잘','걍','과','도','를','으로','자','에','와','한','하다']\n",
    "\n",
    "def load_data(train_data, test_data, num_words=10000):\n",
    "    train_data.drop_duplicates(subset=['document'], inplace=True)\n",
    "    train_data = train_data.dropna(how = 'any') \n",
    "    test_data.drop_duplicates(subset=['document'], inplace=True)\n",
    "    test_data = test_data.dropna(how = 'any') \n",
    "    \n",
    "    X_train = []\n",
    "    for sentence in train_data['document']:\n",
    "        temp_X = tokenizer.morphs(sentence) # 토큰화\n",
    "        temp_X = [word for word in temp_X if not word in stopwords] # 불용어 제거\n",
    "        X_train.append(temp_X)\n",
    "\n",
    "    X_test = []\n",
    "    for sentence in test_data['document']:\n",
    "        temp_X = tokenizer.morphs(sentence) # 토큰화\n",
    "        temp_X = [word for word in temp_X if not word in stopwords] # 불용어 제거\n",
    "        X_test.append(temp_X)\n",
    "    \n",
    "    words = np.concatenate(X_train).tolist()\n",
    "    counter = Counter(words)\n",
    "    counter = counter.most_common(10000-4)\n",
    "    vocab = ['', '', '', ''] + [key for key, _ in counter]\n",
    "    word_to_index = {word:index for index, word in enumerate(vocab)}\n",
    "\n",
    "        \n",
    "    \n",
    "    def wordlist_to_indexlist(wordlist):\n",
    "        return [word_to_index[word] if word in word_to_index else word_to_index[''] for word in wordlist]\n",
    "        \n",
    "    X_train = list(map(wordlist_to_indexlist, X_train))\n",
    "    X_test = list(map(wordlist_to_indexlist, X_test))\n",
    "        \n",
    "    return X_train, np.array(list(train_data['label'])), X_test, np.array(list(test_data['label'])), word_to_index\n",
    "    \n",
    "X_train, y_train, X_test, y_test, word_to_index = load_data(train_data, test_data)"
   ]
  },
  {
   "cell_type": "code",
   "execution_count": 3,
   "id": "ready-costs",
   "metadata": {},
   "outputs": [],
   "source": [
    "word_to_index[\"<PAD>\"] = 0\n",
    "word_to_index[\"<BOS>\"] = 1\n",
    "word_to_index[\"<UNK>\"] = 2  # unknown\n",
    "word_to_index[\"<UNUSED>\"] = 3\n",
    "\n",
    "\n",
    "index_to_word = {index:word for word, index in word_to_index.items()}\n",
    "\n",
    "index_to_word[0] = \"<PAD>\"\n",
    "index_to_word[1] = \"<BOS>\"\n",
    "index_to_word[2] = \"<UNK>\"\n",
    "index_to_word[3] = \"<UNUSED>\""
   ]
  },
  {
   "cell_type": "code",
   "execution_count": 4,
   "id": "romantic-above",
   "metadata": {},
   "outputs": [
    {
     "name": "stdout",
     "output_type": "stream",
     "text": [
      "훈련 샘플 개수: 146182, 테스트 개수: 49157\n"
     ]
    }
   ],
   "source": [
    "print(\"훈련 샘플 개수: {}, 테스트 개수: {}\".format(len(X_train), len(X_test)))"
   ]
  },
  {
   "cell_type": "code",
   "execution_count": 5,
   "id": "authorized-union",
   "metadata": {},
   "outputs": [],
   "source": [
    "# 문장 1개를 활용할 딕셔너리와 함께 주면, 단어 인덱스 리스트 벡터로 변환해 주는 함수입니다. \n",
    "# 단, 모든 문장은 <BOS>로 시작하는 것으로 합니다. \n",
    "def get_encoded_sentence(sentence, word_to_index):\n",
    "    return [word_to_index['<BOS>']]+[word_to_index[word] if word in word_to_index else word_to_index['<UNK>'] for word in sentence.split()]\n",
    "\n",
    "# 여러 개의 문장 리스트를 한꺼번에 단어 인덱스 리스트 벡터로 encode해 주는 함수입니다. \n",
    "def get_encoded_sentences(sentences, word_to_index):\n",
    "    return [get_encoded_sentence(sentence, word_to_index) for sentence in sentences]\n",
    "\n",
    "# 숫자 벡터로 encode된 문장을 원래대로 decode하는 함수입니다. \n",
    "def get_decoded_sentence(encoded_sentence, index_to_word):\n",
    "    return ' '.join(index_to_word[index] if index in index_to_word else '<UNK>' for index in encoded_sentence[1:])  #[1:]를 통해 <BOS>를 제외\n",
    "\n",
    "# 여러 개의 숫자 벡터로 encode된 문장을 한꺼번에 원래대로 decode하는 함수입니다. \n",
    "def get_decoded_sentences(encoded_sentences, index_to_word):\n",
    "    return [get_decoded_sentence(encoded_sentence, index_to_word) for encoded_sentence in encoded_sentences]"
   ]
  },
  {
   "cell_type": "markdown",
   "id": "through-breast",
   "metadata": {},
   "source": [
    "3) 모델구성을 위한 데이터 분석 및 가공"
   ]
  },
  {
   "cell_type": "code",
   "execution_count": 6,
   "id": "three-electricity",
   "metadata": {},
   "outputs": [
    {
     "name": "stdout",
     "output_type": "stream",
     "text": [
      "문장길이 평균 :  15.96940191154864\n",
      "문장길이 최대 :  116\n",
      "문장길이 표준편차 :  12.843571191092\n",
      "pad_sequences maxlen :  41\n",
      "전체 문장의 0.9342988343341575%가 maxlen 설정값 이내에 포함됩니다. \n"
     ]
    }
   ],
   "source": [
    "total_data_text = list(X_train) + list(X_test)\n",
    "# 텍스트데이터 문장길이의 리스트를 생성한 후\n",
    "num_tokens = [len(tokens) for tokens in total_data_text]\n",
    "num_tokens = np.array(num_tokens)\n",
    "# 문장길이의 평균값, 최대값, 표준편차를 계산해 본다. \n",
    "print('문장길이 평균 : ', np.mean(num_tokens))\n",
    "print('문장길이 최대 : ', np.max(num_tokens))\n",
    "print('문장길이 표준편차 : ', np.std(num_tokens))\n",
    "\n",
    "# 예를들어, 최대 길이를 (평균 + 2*표준편차)로 한다면,  \n",
    "max_tokens = np.mean(num_tokens) + 2 * np.std(num_tokens)\n",
    "maxlen = int(max_tokens)\n",
    "print('pad_sequences maxlen : ', maxlen)\n",
    "print('전체 문장의 {}%가 maxlen 설정값 이내에 포함됩니다. '.format(np.sum(num_tokens < max_tokens) / len(num_tokens)))"
   ]
  },
  {
   "cell_type": "code",
   "execution_count": 7,
   "id": "hourly-withdrawal",
   "metadata": {},
   "outputs": [
    {
     "name": "stdout",
     "output_type": "stream",
     "text": [
      "(146182, 41)\n"
     ]
    }
   ],
   "source": [
    "X_train = keras.preprocessing.sequence.pad_sequences(X_train, value=word_to_index[\"<PAD>\"],\n",
    "                                                        padding='pre', \n",
    "                                                        maxlen=maxlen)\n",
    "\n",
    "X_test = keras.preprocessing.sequence.pad_sequences(X_test, value=word_to_index[\"<PAD>\"],\n",
    "                                                       padding='pre',\n",
    "                                                       maxlen=maxlen)\n",
    "\n",
    "print(X_train.shape)"
   ]
  },
  {
   "cell_type": "markdown",
   "id": "taken-lesson",
   "metadata": {},
   "source": [
    "4) 모델구성 및 validation set 구성"
   ]
  },
  {
   "cell_type": "code",
   "execution_count": 21,
   "id": "historic-raise",
   "metadata": {},
   "outputs": [
    {
     "name": "stdout",
     "output_type": "stream",
     "text": [
      "Model: \"sequential_1\"\n",
      "_________________________________________________________________\n",
      "Layer (type)                 Output Shape              Param #   \n",
      "=================================================================\n",
      "embedding_1 (Embedding)      (None, None, 200)         2000000   \n",
      "_________________________________________________________________\n",
      "gru_1 (GRU)                  (None, 256)               351744    \n",
      "_________________________________________________________________\n",
      "dense_2 (Dense)              (None, 256)               65792     \n",
      "_________________________________________________________________\n",
      "dense_3 (Dense)              (None, 1)                 257       \n",
      "=================================================================\n",
      "Total params: 2,417,793\n",
      "Trainable params: 2,417,793\n",
      "Non-trainable params: 0\n",
      "_________________________________________________________________\n"
     ]
    }
   ],
   "source": [
    "vocab_size = 10000    # 어휘 사전의 크기입니다(10,000개의 단어)\n",
    "word_vector_dim = 200  # 워드 벡터의 차원 수 (변경 가능한 하이퍼파라미터)\n",
    "\n",
    "model = keras.Sequential()\n",
    "model.add(keras.layers.Embedding(vocab_size, word_vector_dim, input_shape=(None,)))\n",
    "model.add(keras.layers.GRU(256))\n",
    "model.add(keras.layers.Dense(256, activation='relu'))\n",
    "model.add(keras.layers.Dense(1, activation='sigmoid'))  # 최종 출력은 긍정/부정을 나타내는 1dim 입니다.\n",
    "\n",
    "model.summary()"
   ]
  },
  {
   "cell_type": "code",
   "execution_count": 22,
   "id": "constant-football",
   "metadata": {},
   "outputs": [
    {
     "name": "stdout",
     "output_type": "stream",
     "text": [
      "(100000, 41)\n",
      "(100000,)\n"
     ]
    }
   ],
   "source": [
    "# validation set 46,182건 분리\n",
    "x_val = X_train[:46182]   \n",
    "y_val = y_train[:46182]\n",
    "\n",
    "# validation set을 제외한 나머지 1000,00건\n",
    "partial_x_train = X_train[46182:]  \n",
    "partial_y_train = y_train[46182:]\n",
    "\n",
    "print(partial_x_train.shape)\n",
    "print(partial_y_train.shape)"
   ]
  },
  {
   "cell_type": "markdown",
   "id": "behind-reserve",
   "metadata": {},
   "source": [
    "5) 모델 훈련 개시"
   ]
  },
  {
   "cell_type": "code",
   "execution_count": 23,
   "id": "smoking-montgomery",
   "metadata": {},
   "outputs": [
    {
     "name": "stdout",
     "output_type": "stream",
     "text": [
      "Epoch 1/30\n",
      "196/196 [==============================] - 25s 116ms/step - loss: 0.4918 - accuracy: 0.7497 - val_loss: 0.3518 - val_accuracy: 0.8452\n",
      "Epoch 2/30\n",
      "196/196 [==============================] - 22s 113ms/step - loss: 0.3133 - accuracy: 0.8666 - val_loss: 0.3315 - val_accuracy: 0.8557\n",
      "Epoch 3/30\n",
      "196/196 [==============================] - 22s 113ms/step - loss: 0.2659 - accuracy: 0.8895 - val_loss: 0.3342 - val_accuracy: 0.8558\n",
      "Epoch 4/30\n",
      "196/196 [==============================] - 22s 112ms/step - loss: 0.2272 - accuracy: 0.9071 - val_loss: 0.3530 - val_accuracy: 0.8532\n",
      "Epoch 5/30\n",
      "196/196 [==============================] - 22s 114ms/step - loss: 0.2008 - accuracy: 0.9176 - val_loss: 0.4015 - val_accuracy: 0.8533\n",
      "Epoch 6/30\n",
      "196/196 [==============================] - 22s 114ms/step - loss: 0.1755 - accuracy: 0.9287 - val_loss: 0.4137 - val_accuracy: 0.8502\n",
      "Epoch 7/30\n",
      "196/196 [==============================] - 22s 113ms/step - loss: 0.1491 - accuracy: 0.9406 - val_loss: 0.4736 - val_accuracy: 0.8492\n",
      "Epoch 8/30\n",
      "196/196 [==============================] - 22s 114ms/step - loss: 0.1292 - accuracy: 0.9479 - val_loss: 0.5447 - val_accuracy: 0.8457\n",
      "Epoch 9/30\n",
      "196/196 [==============================] - 17s 87ms/step - loss: 0.1128 - accuracy: 0.9542 - val_loss: 0.5986 - val_accuracy: 0.8440\n",
      "Epoch 10/30\n",
      "196/196 [==============================] - 15s 78ms/step - loss: 0.0951 - accuracy: 0.9625 - val_loss: 0.6360 - val_accuracy: 0.8449\n",
      "Epoch 11/30\n",
      "196/196 [==============================] - 22s 111ms/step - loss: 0.0847 - accuracy: 0.9659 - val_loss: 0.6987 - val_accuracy: 0.8402\n",
      "Epoch 12/30\n",
      "196/196 [==============================] - 22s 113ms/step - loss: 0.0767 - accuracy: 0.9691 - val_loss: 0.7716 - val_accuracy: 0.8399\n",
      "Epoch 13/30\n",
      "196/196 [==============================] - 22s 114ms/step - loss: 0.0668 - accuracy: 0.9729 - val_loss: 0.8542 - val_accuracy: 0.8357\n",
      "Epoch 14/30\n",
      "196/196 [==============================] - 22s 114ms/step - loss: 0.0582 - accuracy: 0.9774 - val_loss: 0.9489 - val_accuracy: 0.8374\n",
      "Epoch 15/30\n",
      "196/196 [==============================] - 22s 113ms/step - loss: 0.0500 - accuracy: 0.9803 - val_loss: 0.9383 - val_accuracy: 0.8378\n",
      "Epoch 16/30\n",
      "196/196 [==============================] - 22s 113ms/step - loss: 0.0451 - accuracy: 0.9825 - val_loss: 1.0511 - val_accuracy: 0.8392\n",
      "Epoch 17/30\n",
      "196/196 [==============================] - 22s 115ms/step - loss: 0.0429 - accuracy: 0.9830 - val_loss: 1.0827 - val_accuracy: 0.8368\n",
      "Epoch 18/30\n",
      "196/196 [==============================] - 22s 113ms/step - loss: 0.0387 - accuracy: 0.9849 - val_loss: 1.1774 - val_accuracy: 0.8350\n",
      "Epoch 19/30\n",
      "196/196 [==============================] - 22s 112ms/step - loss: 0.0328 - accuracy: 0.9875 - val_loss: 1.1814 - val_accuracy: 0.8396\n",
      "Epoch 20/30\n",
      "196/196 [==============================] - 22s 113ms/step - loss: 0.0311 - accuracy: 0.9881 - val_loss: 1.1975 - val_accuracy: 0.8375\n",
      "Epoch 21/30\n",
      "196/196 [==============================] - 22s 113ms/step - loss: 0.0284 - accuracy: 0.9889 - val_loss: 1.3719 - val_accuracy: 0.8342\n",
      "Epoch 22/30\n",
      "196/196 [==============================] - 22s 113ms/step - loss: 0.0237 - accuracy: 0.9909 - val_loss: 1.4703 - val_accuracy: 0.8352\n",
      "Epoch 23/30\n",
      "196/196 [==============================] - 22s 113ms/step - loss: 0.0242 - accuracy: 0.9907 - val_loss: 1.5036 - val_accuracy: 0.8361\n",
      "Epoch 24/30\n",
      "196/196 [==============================] - 22s 113ms/step - loss: 0.0219 - accuracy: 0.9916 - val_loss: 1.4549 - val_accuracy: 0.8363\n",
      "Epoch 25/30\n",
      "196/196 [==============================] - 22s 112ms/step - loss: 0.0225 - accuracy: 0.9911 - val_loss: 1.5169 - val_accuracy: 0.8358\n",
      "Epoch 26/30\n",
      "196/196 [==============================] - 22s 112ms/step - loss: 0.0182 - accuracy: 0.9931 - val_loss: 1.5708 - val_accuracy: 0.8352\n",
      "Epoch 27/30\n",
      "196/196 [==============================] - 22s 112ms/step - loss: 0.0182 - accuracy: 0.9926 - val_loss: 1.5091 - val_accuracy: 0.8369\n",
      "Epoch 28/30\n",
      "196/196 [==============================] - 22s 113ms/step - loss: 0.0170 - accuracy: 0.9931 - val_loss: 1.7089 - val_accuracy: 0.8347\n",
      "Epoch 29/30\n",
      "196/196 [==============================] - 22s 113ms/step - loss: 0.0158 - accuracy: 0.9935 - val_loss: 1.6852 - val_accuracy: 0.8366\n",
      "Epoch 30/30\n",
      "196/196 [==============================] - 22s 112ms/step - loss: 0.0162 - accuracy: 0.9931 - val_loss: 1.5535 - val_accuracy: 0.8355\n"
     ]
    }
   ],
   "source": [
    "model.compile(optimizer='adam',\n",
    "              loss='binary_crossentropy',\n",
    "              metrics=['accuracy'])\n",
    "              \n",
    "epochs=30  # 몇 epoch를 훈련하면 좋을지 결과를 보면서 바꾸어 봅시다. \n",
    "\n",
    "history = model.fit(partial_x_train,\n",
    "                    partial_y_train,\n",
    "                    epochs=epochs,\n",
    "                    batch_size=512,\n",
    "                    validation_data=(x_val, y_val),\n",
    "                    verbose=1)"
   ]
  },
  {
   "cell_type": "code",
   "execution_count": 24,
   "id": "mighty-roman",
   "metadata": {},
   "outputs": [
    {
     "name": "stdout",
     "output_type": "stream",
     "text": [
      "1537/1537 - 16s - loss: 1.5632 - accuracy: 0.8317\n",
      "[1.563156008720398, 0.8316821455955505]\n"
     ]
    }
   ],
   "source": [
    "results = model.evaluate(X_test,  y_test, verbose=2)\n",
    "\n",
    "print(results)"
   ]
  },
  {
   "cell_type": "markdown",
   "id": "surgical-scenario",
   "metadata": {},
   "source": [
    "6) loss, accuracy 그래프 시각화"
   ]
  },
  {
   "cell_type": "code",
   "execution_count": 25,
   "id": "genetic-lying",
   "metadata": {},
   "outputs": [
    {
     "name": "stdout",
     "output_type": "stream",
     "text": [
      "dict_keys(['loss', 'accuracy', 'val_loss', 'val_accuracy'])\n"
     ]
    }
   ],
   "source": [
    "history_dict = history.history\n",
    "print(history_dict.keys()) # epoch에 따른 그래프를 그려볼 수 있는 항목들"
   ]
  },
  {
   "cell_type": "code",
   "execution_count": 26,
   "id": "constitutional-component",
   "metadata": {},
   "outputs": [
    {
     "data": {
      "image/png": "[encoded data removed]",
      "text/plain": [
       "<Figure size 432x288 with 1 Axes>"
      ]
     },
     "metadata": {
      "needs_background": "light"
     },
     "output_type": "display_data"
    }
   ],
   "source": [
    "import matplotlib.pyplot as plt\n",
    "\n",
    "acc = history_dict['accuracy']\n",
    "val_acc = history_dict['val_accuracy']\n",
    "loss = history_dict['loss']\n",
    "val_loss = history_dict['val_loss']\n",
    "\n",
    "epochs = range(1, len(acc) + 1)\n",
    "\n",
    "# \"bo\"는 \"파란색 점\"입니다\n",
    "plt.plot(epochs, loss, 'bo', label='Training loss')\n",
    "# b는 \"파란 실선\"입니다\n",
    "plt.plot(epochs, val_loss, 'b', label='Validation loss')\n",
    "plt.title('Training and validation loss')\n",
    "plt.xlabel('Epochs')\n",
    "plt.ylabel('Loss')\n",
    "plt.legend()\n",
    "\n",
    "plt.show()"
   ]
  },
  {
   "cell_type": "code",
   "execution_count": 27,
   "id": "harmful-jewel",
   "metadata": {},
   "outputs": [
    {
     "data": {
      "image/png": "[encoded data removed]",
      "text/plain": [
       "<Figure size 432x288 with 1 Axes>"
      ]
     },
     "metadata": {
      "needs_background": "light"
     },
     "output_type": "display_data"
    }
   ],
   "source": [
    "plt.clf()   # 그림을 초기화합니다\n",
    "\n",
    "plt.plot(epochs, acc, 'bo', label='Training acc')\n",
    "plt.plot(epochs, val_acc, 'b', label='Validation acc')\n",
    "plt.title('Training and validation accuracy')\n",
    "plt.xlabel('Epochs')\n",
    "plt.ylabel('Accuracy')\n",
    "plt.legend()\n",
    "\n",
    "plt.show()"
   ]
  },
  {
   "cell_type": "markdown",
   "id": "golden-forwarding",
   "metadata": {},
   "source": [
    "7) 학습된 embedding 레이어 분석"
   ]
  },
  {
   "cell_type": "markdown",
   "id": "breeding-chair",
   "metadata": {},
   "source": [
    "8) 한국어 Word2vec 임베딩 확용하여 성능개선\n",
    "[링크](https://github.com/Kyubyong/wordvectors)"
   ]
  },
  {
   "cell_type": "code",
   "execution_count": 28,
   "id": "laughing-canon",
   "metadata": {},
   "outputs": [
    {
     "name": "stdout",
     "output_type": "stream",
     "text": [
      "Requirement already satisfied: gensim==3.8.3 in /opt/conda/lib/python3.7/site-packages (3.8.3)\n",
      "Requirement already satisfied: numpy>=1.11.3 in /opt/conda/lib/python3.7/site-packages (from gensim==3.8.3) (1.19.5)\n",
      "Requirement already satisfied: six>=1.5.0 in /opt/conda/lib/python3.7/site-packages (from gensim==3.8.3) (1.15.0)\n",
      "Requirement already satisfied: scipy>=0.18.1 in /opt/conda/lib/python3.7/site-packages (from gensim==3.8.3) (1.4.1)\n",
      "Requirement already satisfied: smart-open>=1.8.1 in /opt/conda/lib/python3.7/site-packages (from gensim==3.8.3) (4.1.2)\n",
      "\u001b[33mWARNING: You are using pip version 20.3.3; however, version 21.2.3 is available.\n",
      "You should consider upgrading via the '/opt/conda/bin/python3.7 -m pip install --upgrade pip' command.\u001b[0m\n"
     ]
    }
   ],
   "source": [
    "!pip install --upgrade gensim==3.8.3"
   ]
  },
  {
   "cell_type": "code",
   "execution_count": 29,
   "id": "developmental-flooring",
   "metadata": {},
   "outputs": [
    {
     "name": "stdout",
     "output_type": "stream",
     "text": [
      "3.8.3\n"
     ]
    }
   ],
   "source": [
    "import gensim\n",
    "from gensim.models.keyedvectors import Word2VecKeyedVectors\n",
    "print(gensim.__version__)"
   ]
  },
  {
   "cell_type": "code",
   "execution_count": 30,
   "id": "romantic-error",
   "metadata": {},
   "outputs": [
    {
     "name": "stdout",
     "output_type": "stream",
     "text": [
      "(10000, 200)\n"
     ]
    }
   ],
   "source": [
    "embedding_layer = model.layers[0]\n",
    "weights = embedding_layer.get_weights()[0]\n",
    "print(weights.shape)    # shape: (vocab_size, embedding_dim)"
   ]
  },
  {
   "cell_type": "code",
   "execution_count": 31,
   "id": "minimal-salon",
   "metadata": {},
   "outputs": [],
   "source": [
    "import os\n",
    "\n",
    "# 학습한 Embedding 파라미터를 파일에 써서 저장합니다. \n",
    "word2vec_file_path = os.getenv('HOME')+'/aiffel/sentiment_classification/data/word2vec.txt'\n",
    "f = open(word2vec_file_path, 'w')\n",
    "f.write('{} {}\\n'.format(vocab_size-4, word_vector_dim))  # 몇개의 벡터를 얼마 사이즈로 기재할지 타이틀을 씁니다.\n",
    "\n",
    "# 단어 개수(에서 특수문자 4개는 제외하고)만큼의 워드 벡터를 파일에 기록합니다. \n",
    "vectors = model.get_weights()[0]\n",
    "for i in range(4,vocab_size):\n",
    "    f.write('{} {}\\n'.format(index_to_word[i], ' '.join(map(str, list(vectors[i, :])))))\n",
    "f.close()"
   ]
  },
  {
   "cell_type": "code",
   "execution_count": 33,
   "id": "athletic-canadian",
   "metadata": {},
   "outputs": [
    {
     "data": {
      "text/plain": [
       "[('설렘', 0.7783212661743164),\n",
       " ('성준', 0.7516025304794312),\n",
       " ('개성', 0.7498517036437988),\n",
       " ('즉', 0.7462618947029114),\n",
       " ('외우', 0.7387876510620117),\n",
       " ('그리도', 0.7374764680862427),\n",
       " ('심리전', 0.7368056774139404),\n",
       " ('지아', 0.7366116642951965),\n",
       " ('도착', 0.7330735921859741),\n",
       " ('고요', 0.7302336096763611)]"
      ]
     },
     "execution_count": 33,
     "metadata": {},
     "output_type": "execute_result"
    }
   ],
   "source": [
    "word_vectors = Word2VecKeyedVectors.load_word2vec_format(word2vec_file_path, binary=False)\n",
    "word2vec_path = os.getenv('HOME')+'/aiffel/sentiment_classification/data/ko.bin'\n",
    "word2vec = gensim.models.Word2Vec.load(word2vec_path)\n",
    "word_vectors.similar_by_word(\"좋아\")"
   ]
  },
  {
   "cell_type": "code",
   "execution_count": 34,
   "id": "unusual-request",
   "metadata": {},
   "outputs": [
    {
     "name": "stderr",
     "output_type": "stream",
     "text": [
      "/opt/conda/lib/python3.7/site-packages/ipykernel_launcher.py:8: DeprecationWarning: Call to deprecated `__contains__` (Method will be removed in 4.0.0, use self.wv.__contains__() instead).\n",
      "  \n",
      "/opt/conda/lib/python3.7/site-packages/ipykernel_launcher.py:9: DeprecationWarning: Call to deprecated `__getitem__` (Method will be removed in 4.0.0, use self.wv.__getitem__() instead).\n",
      "  if __name__ == '__main__':\n"
     ]
    }
   ],
   "source": [
    "vocab_size = 10000    # 어휘 사전의 크기입니다(10,000개의 단어)\n",
    "word_vector_dim = 200  # 워드 벡터의 차원수 (변경가능한 하이퍼파라미터)\n",
    "\n",
    "embedding_matrix = np.random.rand(vocab_size, word_vector_dim)\n",
    "\n",
    "# embedding_matrix에 Word2Vec 워드 벡터를 단어 하나씩마다 차례차례 카피한다.\n",
    "for i in range(4,vocab_size):\n",
    "    if index_to_word[i] in word2vec:\n",
    "        embedding_matrix[i] = word2vec[index_to_word[i]]"
   ]
  },
  {
   "cell_type": "code",
   "execution_count": 35,
   "id": "bound-effect",
   "metadata": {},
   "outputs": [
    {
     "name": "stdout",
     "output_type": "stream",
     "text": [
      "Model: \"sequential_2\"\n",
      "_________________________________________________________________\n",
      "Layer (type)                 Output Shape              Param #   \n",
      "=================================================================\n",
      "embedding_2 (Embedding)      (None, 41, 200)           2000000   \n",
      "_________________________________________________________________\n",
      "gru_2 (GRU)                  (None, 256)               351744    \n",
      "_________________________________________________________________\n",
      "dense_4 (Dense)              (None, 256)               65792     \n",
      "_________________________________________________________________\n",
      "dense_5 (Dense)              (None, 1)                 257       \n",
      "=================================================================\n",
      "Total params: 2,417,793\n",
      "Trainable params: 2,417,793\n",
      "Non-trainable params: 0\n",
      "_________________________________________________________________\n"
     ]
    }
   ],
   "source": [
    "from tensorflow.keras.initializers import Constant\n",
    "\n",
    "vocab_size = 10000    # 어휘 사전의 크기입니다(10,000개의 단어)\n",
    "word_vector_dim = 200  # 워드 벡터의 차원 수 (변경가능한 하이퍼파라미터)\n",
    "\n",
    "# 모델 구성\n",
    "model = keras.Sequential()\n",
    "model.add(keras.layers.Embedding(vocab_size, \n",
    "                                 word_vector_dim, \n",
    "                                 embeddings_initializer=Constant(embedding_matrix),  # 카피한 임베딩을 여기서 활용\n",
    "                                 input_length=maxlen, \n",
    "                                 trainable=True))   # trainable을 True로 주면 Fine-tuning\n",
    "model.add(keras.layers.GRU(256))\n",
    "model.add(keras.layers.Dense(256, activation='relu'))\n",
    "model.add(keras.layers.Dense(1, activation='sigmoid')) \n",
    "\n",
    "model.summary()"
   ]
  },
  {
   "cell_type": "code",
   "execution_count": 36,
   "id": "permanent-childhood",
   "metadata": {},
   "outputs": [
    {
     "name": "stdout",
     "output_type": "stream",
     "text": [
      "Epoch 1/30\n",
      "196/196 [==============================] - 24s 115ms/step - loss: 0.5367 - accuracy: 0.7143 - val_loss: 0.3665 - val_accuracy: 0.8371\n",
      "Epoch 2/30\n",
      "196/196 [==============================] - 22s 113ms/step - loss: 0.3369 - accuracy: 0.8530 - val_loss: 0.3242 - val_accuracy: 0.8581\n",
      "Epoch 3/30\n",
      "196/196 [==============================] - 22s 113ms/step - loss: 0.2792 - accuracy: 0.8817 - val_loss: 0.3178 - val_accuracy: 0.8638\n",
      "Epoch 4/30\n",
      "196/196 [==============================] - 22s 113ms/step - loss: 0.2363 - accuracy: 0.9039 - val_loss: 0.3178 - val_accuracy: 0.8647\n",
      "Epoch 5/30\n",
      "196/196 [==============================] - 19s 95ms/step - loss: 0.2011 - accuracy: 0.9193 - val_loss: 0.3485 - val_accuracy: 0.8602\n",
      "Epoch 6/30\n",
      "196/196 [==============================] - 15s 77ms/step - loss: 0.1600 - accuracy: 0.9374 - val_loss: 0.3902 - val_accuracy: 0.8641\n",
      "Epoch 7/30\n",
      "196/196 [==============================] - 13s 67ms/step - loss: 0.1191 - accuracy: 0.9546 - val_loss: 0.4154 - val_accuracy: 0.8599\n",
      "Epoch 8/30\n",
      "196/196 [==============================] - 13s 66ms/step - loss: 0.0888 - accuracy: 0.9678 - val_loss: 0.5078 - val_accuracy: 0.8587\n",
      "Epoch 9/30\n",
      "196/196 [==============================] - 13s 67ms/step - loss: 0.0586 - accuracy: 0.9786 - val_loss: 0.5759 - val_accuracy: 0.8522\n",
      "Epoch 10/30\n",
      "196/196 [==============================] - 13s 67ms/step - loss: 0.0483 - accuracy: 0.9823 - val_loss: 0.6690 - val_accuracy: 0.8542\n",
      "Epoch 11/30\n",
      "196/196 [==============================] - 13s 67ms/step - loss: 0.0392 - accuracy: 0.9859 - val_loss: 0.7321 - val_accuracy: 0.8542\n",
      "Epoch 12/30\n",
      "196/196 [==============================] - 13s 66ms/step - loss: 0.0351 - accuracy: 0.9871 - val_loss: 0.8633 - val_accuracy: 0.8560\n",
      "Epoch 13/30\n",
      "196/196 [==============================] - 13s 66ms/step - loss: 0.0229 - accuracy: 0.9917 - val_loss: 0.8865 - val_accuracy: 0.8540\n",
      "Epoch 14/30\n",
      "196/196 [==============================] - 13s 66ms/step - loss: 0.0235 - accuracy: 0.9912 - val_loss: 0.9836 - val_accuracy: 0.8573\n",
      "Epoch 15/30\n",
      "196/196 [==============================] - 13s 66ms/step - loss: 0.0210 - accuracy: 0.9922 - val_loss: 1.0218 - val_accuracy: 0.8544\n",
      "Epoch 16/30\n",
      "196/196 [==============================] - 13s 66ms/step - loss: 0.0167 - accuracy: 0.9938 - val_loss: 1.1913 - val_accuracy: 0.8579\n",
      "Epoch 17/30\n",
      "196/196 [==============================] - 13s 67ms/step - loss: 0.0178 - accuracy: 0.9933 - val_loss: 1.0642 - val_accuracy: 0.8563\n",
      "Epoch 18/30\n",
      "196/196 [==============================] - 13s 66ms/step - loss: 0.0183 - accuracy: 0.9933 - val_loss: 0.9978 - val_accuracy: 0.8523\n",
      "Epoch 19/30\n",
      "196/196 [==============================] - 13s 66ms/step - loss: 0.0151 - accuracy: 0.9943 - val_loss: 1.0922 - val_accuracy: 0.8547\n",
      "Epoch 20/30\n",
      "196/196 [==============================] - 13s 66ms/step - loss: 0.0124 - accuracy: 0.9953 - val_loss: 1.1155 - val_accuracy: 0.8536\n",
      "Epoch 21/30\n",
      "196/196 [==============================] - 13s 66ms/step - loss: 0.0181 - accuracy: 0.9931 - val_loss: 1.0754 - val_accuracy: 0.8542\n",
      "Epoch 22/30\n",
      "196/196 [==============================] - 13s 66ms/step - loss: 0.0146 - accuracy: 0.9943 - val_loss: 1.1001 - val_accuracy: 0.8546\n",
      "Epoch 23/30\n",
      "196/196 [==============================] - 13s 66ms/step - loss: 0.0116 - accuracy: 0.9954 - val_loss: 1.1301 - val_accuracy: 0.8523\n",
      "Epoch 24/30\n",
      "196/196 [==============================] - 13s 66ms/step - loss: 0.0107 - accuracy: 0.9957 - val_loss: 1.1930 - val_accuracy: 0.8533\n",
      "Epoch 25/30\n",
      "196/196 [==============================] - 13s 66ms/step - loss: 0.0102 - accuracy: 0.9963 - val_loss: 1.2648 - val_accuracy: 0.8561\n",
      "Epoch 26/30\n",
      "196/196 [==============================] - 13s 66ms/step - loss: 0.0121 - accuracy: 0.9949 - val_loss: 1.1615 - val_accuracy: 0.8545\n",
      "Epoch 27/30\n",
      "196/196 [==============================] - 13s 68ms/step - loss: 0.0123 - accuracy: 0.9953 - val_loss: 1.1638 - val_accuracy: 0.8533\n",
      "Epoch 28/30\n",
      "196/196 [==============================] - 17s 87ms/step - loss: 0.0123 - accuracy: 0.9954 - val_loss: 1.2413 - val_accuracy: 0.8568\n",
      "Epoch 29/30\n",
      "196/196 [==============================] - 19s 95ms/step - loss: 0.0132 - accuracy: 0.9951 - val_loss: 1.1934 - val_accuracy: 0.8551\n",
      "Epoch 30/30\n",
      "196/196 [==============================] - 28s 142ms/step - loss: 0.0110 - accuracy: 0.9957 - val_loss: 1.2638 - val_accuracy: 0.8542\n"
     ]
    }
   ],
   "source": [
    "# 학습의 진행\n",
    "model.compile(optimizer='adam',\n",
    "              loss='binary_crossentropy',\n",
    "              metrics=['accuracy'])\n",
    "              \n",
    "epochs=30  # 몇 epoch를 훈련하면 좋을지 결과를 보면서 바꾸어 봅시다. \n",
    "\n",
    "history = model.fit(partial_x_train,\n",
    "                    partial_y_train,\n",
    "                    epochs=epochs,\n",
    "                    batch_size=512,\n",
    "                    validation_data=(x_val, y_val),\n",
    "                    verbose=1)"
   ]
  },
  {
   "cell_type": "code",
   "execution_count": 37,
   "id": "concrete-advantage",
   "metadata": {},
   "outputs": [
    {
     "name": "stdout",
     "output_type": "stream",
     "text": [
      "1537/1537 - 22s - loss: 1.2834 - accuracy: 0.8509\n",
      "[1.2834014892578125, 0.8508656024932861]\n"
     ]
    }
   ],
   "source": [
    "# 테스트셋을 통한 모델 평가\n",
    "results = model.evaluate(X_test,  y_test, verbose=2)\n",
    "\n",
    "print(results)"
   ]
  }
 ],
 "metadata": {
  "kernelspec": {
   "display_name": "Python 3",
   "language": "python",
   "name": "python3"
  },
  "language_info": {
   "codemirror_mode": {
    "name": "ipython",
    "version": 3
   },
   "file_extension": ".py",
   "mimetype": "text/x-python",
   "name": "python",
   "nbconvert_exporter": "python",
   "pygments_lexer": "ipython3",
   "version": "3.7.9"
  }
 },
 "nbformat": 4,
 "nbformat_minor": 5
}
